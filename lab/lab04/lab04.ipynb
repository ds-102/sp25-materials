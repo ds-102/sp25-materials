{
 "cells": [
  {
   "cell_type": "code",
   "execution_count": 1,
   "id": "bd9328ff",
   "metadata": {
    "deletable": false,
    "editable": false
   },
   "outputs": [],
   "source": [
    "# Initialize Otter\n",
    "import otter\n",
    "grader = otter.Notebook(\"lab04.ipynb\")"
   ]
  },
  {
   "cell_type": "markdown",
   "id": "b3bf11eb-5a1f-4bbe-a8c6-22e6b385fa0a",
   "metadata": {},
   "source": [
    "# Lab 4:  Bayesian Estimation in Hierarchical Graphical Models\n",
    "Welcome to the fourth Data 102 lab! \n",
    "\n",
    "The goal of this lab is to go over Bayesian Estimation and provide an introduction to Hierarchial Graphical Models.\n",
    "\n",
    "The code and responses you need to fill in are represented by `...`. There is additional documentation for each part as you go along. \n",
    "\n",
    "\n",
    "## Collaboration Policy\n",
    "Data science is a collaborative activity. While you may talk with others about the labs, we ask that you **write your solutions individually and do not share your code with anyone other than your partner**. If you do discuss the assignments with people other than your partner please **include their names** in the cell below.\n",
    "\n",
    "You can submit the lab in pairs (groups of two, no more than two). **If you choose to work in a pair, please make sure to add your group member on Gradescope for both Lab 04 written submission and the Lab 04 code submission.**\n",
    "\n",
    "## Submission\n",
    "\n",
    "**Since this lab involves sampling, tests may take awhile to run. Please submit as early as possible, as last minute submissions may overwhelm DataHub, preventing yourself and others from submitting on-time.**\n",
    "\n",
    "For full credit, this assignment should be completed and submitted before Wednesday, Feburary 19th, at 5:00 PM PST."
   ]
  },
  {
   "cell_type": "markdown",
   "id": "4cc3f94c-b974-4ba6-b451-47fea7dd5074",
   "metadata": {},
   "source": [
    "## Collaborators\n",
    "Write the names of your collaborators in this cell.\n",
    "\n",
    "`<Collaborator Name> <Collaborator e-mail>`"
   ]
  },
  {
   "cell_type": "code",
   "execution_count": 2,
   "id": "ded4e1b2-2192-403d-a439-8d0f2182b7a2",
   "metadata": {},
   "outputs": [],
   "source": [
    "import matplotlib.pyplot as plt\n",
    "import numpy as np\n",
    "import pandas as pd\n",
    "import seaborn as sns\n",
    "from scipy.stats import beta, binom\n",
    "import itertools\n",
    "from ipywidgets import interact, interactive\n",
    "\n",
    "\n",
    "import hashlib\n",
    "%matplotlib inline\n",
    "\n",
    "sns.set(style=\"dark\")\n",
    "plt.style.use(\"ggplot\")\n",
    "\n",
    "import pymc as pm\n",
    "import logging\n",
    "logger = logging.getLogger('pymc')\n",
    "logger.setLevel(logging.INFO)"
   ]
  },
  {
   "cell_type": "markdown",
   "id": "5a29b411-874b-400b-81c5-fb6c623cd142",
   "metadata": {},
   "source": [
    "# Question 1: Beta-Binomial Graphical Model\n",
    "\n",
    "In this question we will look at the COVID modeling example. Here's the summary of what you need to know:\n",
    "\n",
    "In this problem we are trying to estimate the COVID infection risk in households. To do that we curate a list of K studies. Each study has an associated pair $(N_i, X_i)$ where $N_i$ denotes the number of susceptible individuals considered and $X_i$ is the number of them that became infected. In our modeling assumptions we assume that each susceptible person gets infected with probability $\\theta_i$. In epidemiology, this quantity is known as Secondary Attack Rate, or SAR for short.\n",
    "\n",
    "We're trying to do two things: \n",
    "1. We want to *combine* the information from all the studies, so we can get a better estimate of SAR than we would with any individual study on its own. \n",
    "2. We want to understand why the studies got different results: specifically, we'd like to figure out the regions with the *lowest* SAR, so that we can investigate what contributed to their relative success. In the other direction, we want to know which regions had the *highest* SAR, since they're likely the ones most urgently in need of intervention measures to help slow the spread.\n"
   ]
  },
  {
   "cell_type": "code",
   "execution_count": 3,
   "id": "b139ab69-d9de-41cd-8bfd-cdee16b520be",
   "metadata": {},
   "outputs": [
    {
     "data": {
      "text/html": [
       "<div>\n",
       "<style scoped>\n",
       "    .dataframe tbody tr th:only-of-type {\n",
       "        vertical-align: middle;\n",
       "    }\n",
       "\n",
       "    .dataframe tbody tr th {\n",
       "        vertical-align: top;\n",
       "    }\n",
       "\n",
       "    .dataframe thead th {\n",
       "        text-align: right;\n",
       "    }\n",
       "</style>\n",
       "<table border=\"1\" class=\"dataframe\">\n",
       "  <thead>\n",
       "    <tr style=\"text-align: right;\">\n",
       "      <th></th>\n",
       "      <th>Name</th>\n",
       "      <th>X</th>\n",
       "      <th>N</th>\n",
       "    </tr>\n",
       "  </thead>\n",
       "  <tbody>\n",
       "    <tr>\n",
       "      <th>0</th>\n",
       "      <td>Study 0</td>\n",
       "      <td>3</td>\n",
       "      <td>8</td>\n",
       "    </tr>\n",
       "    <tr>\n",
       "      <th>1</th>\n",
       "      <td>Study 1</td>\n",
       "      <td>2</td>\n",
       "      <td>11</td>\n",
       "    </tr>\n",
       "    <tr>\n",
       "      <th>2</th>\n",
       "      <td>Study 2</td>\n",
       "      <td>6</td>\n",
       "      <td>12</td>\n",
       "    </tr>\n",
       "    <tr>\n",
       "      <th>3</th>\n",
       "      <td>Study 3</td>\n",
       "      <td>9</td>\n",
       "      <td>27</td>\n",
       "    </tr>\n",
       "    <tr>\n",
       "      <th>4</th>\n",
       "      <td>Study 4</td>\n",
       "      <td>11</td>\n",
       "      <td>38</td>\n",
       "    </tr>\n",
       "    <tr>\n",
       "      <th>5</th>\n",
       "      <td>Study 5</td>\n",
       "      <td>21</td>\n",
       "      <td>59</td>\n",
       "    </tr>\n",
       "    <tr>\n",
       "      <th>6</th>\n",
       "      <td>Study 6</td>\n",
       "      <td>27</td>\n",
       "      <td>79</td>\n",
       "    </tr>\n",
       "    <tr>\n",
       "      <th>7</th>\n",
       "      <td>Study 7</td>\n",
       "      <td>23</td>\n",
       "      <td>82</td>\n",
       "    </tr>\n",
       "    <tr>\n",
       "      <th>8</th>\n",
       "      <td>Study 8</td>\n",
       "      <td>26</td>\n",
       "      <td>120</td>\n",
       "    </tr>\n",
       "    <tr>\n",
       "      <th>9</th>\n",
       "      <td>Study 9</td>\n",
       "      <td>57</td>\n",
       "      <td>145</td>\n",
       "    </tr>\n",
       "    <tr>\n",
       "      <th>10</th>\n",
       "      <td>Study 10</td>\n",
       "      <td>118</td>\n",
       "      <td>262</td>\n",
       "    </tr>\n",
       "    <tr>\n",
       "      <th>11</th>\n",
       "      <td>Study 11</td>\n",
       "      <td>122</td>\n",
       "      <td>341</td>\n",
       "    </tr>\n",
       "  </tbody>\n",
       "</table>\n",
       "</div>"
      ],
      "text/plain": [
       "        Name    X    N\n",
       "0    Study 0    3    8\n",
       "1    Study 1    2   11\n",
       "2    Study 2    6   12\n",
       "3    Study 3    9   27\n",
       "4    Study 4   11   38\n",
       "5    Study 5   21   59\n",
       "6    Study 6   27   79\n",
       "7    Study 7   23   82\n",
       "8    Study 8   26  120\n",
       "9    Study 9   57  145\n",
       "10  Study 10  118  262\n",
       "11  Study 11  122  341"
      ]
     },
     "execution_count": 3,
     "metadata": {},
     "output_type": "execute_result"
    }
   ],
   "source": [
    "# Read out a dataset \n",
    "study_df = pd.read_csv(\"study_df.csv\", header=0)\n",
    "study_df"
   ]
  },
  {
   "cell_type": "markdown",
   "id": "0ee02782-1360-4cc7-9863-368075fec39b",
   "metadata": {
    "deletable": false,
    "editable": false
   },
   "source": [
    "## 1a) Compute the naive estimate of SAR\n",
    "\n",
    "\n",
    "The most straightforward way to estimate the probability of infection (SAR) is to divide the number of infected cases by the number of susceptible cases. \n",
    "\n",
    "Compute this quantity in the cell below."
   ]
  },
  {
   "cell_type": "code",
   "execution_count": 4,
   "id": "64768b20-1d34-4be9-87b5-fee42cc2f9e5",
   "metadata": {
    "tags": [
     "otter_answer_cell"
    ]
   },
   "outputs": [],
   "source": [
    "# TODO: Complete the function\n",
    "def trivial_theta_estimate(N_value, X_value):\n",
    "    \"\"\"\n",
    "    Computes the trivial estimate of the Secondary Attack Rate\n",
    "    \n",
    "    Inputs:\n",
    "        N_value : int, number of susceptible individuals\n",
    "        X_value : int, number of infected individuals\n",
    "        \n",
    "    Output:\n",
    "        theta_est : float, estimate of probability of infection (SAR)\n",
    "    \"\"\"\n",
    "    theta_est = ...\n",
    "    return theta_est"
   ]
  },
  {
   "cell_type": "code",
   "execution_count": 5,
   "id": "c2512e81",
   "metadata": {
    "deletable": false,
    "editable": false
   },
   "outputs": [
    {
     "data": {
      "text/html": [
       "<p><strong style='color: red;'><pre style='display: inline;'>q1a</pre> results:</strong></p><p><strong><pre style='display: inline;'>q1a - 1</pre> result:</strong></p><pre>    ❌ Test case failed\n",
       "    Trying:\n",
       "        n_test_array = [10, 100, 1000]\n",
       "    Expecting nothing\n",
       "    ok\n",
       "    Trying:\n",
       "        x_test_array = [10, 34, 852]\n",
       "    Expecting nothing\n",
       "    ok\n",
       "    Trying:\n",
       "        res_array = [trivial_theta_estimate(n, x_test_array[i]) for i, n in enumerate(n_test_array)]\n",
       "    Expecting nothing\n",
       "    ok\n",
       "    Trying:\n",
       "        assert np.allclose(res_array, [1.0, 0.34, 0.852])\n",
       "    Expecting nothing\n",
       "    **********************************************************************\n",
       "    Line 4, in q1a 0\n",
       "    Failed example:\n",
       "        assert np.allclose(res_array, [1.0, 0.34, 0.852])\n",
       "    Exception raised:\n",
       "        Traceback (most recent call last):\n",
       "          File \"/srv/conda/envs/notebook/lib/python3.11/doctest.py\", line 1355, in __run\n",
       "            exec(compile(example.source, filename, \"single\",\n",
       "          File \"<doctest q1a 0[3]>\", line 1, in <module>\n",
       "            assert np.allclose(res_array, [1.0, 0.34, 0.852])\n",
       "                   ^^^^^^^^^^^^^^^^^^^^^^^^^^^^^^^^^^^^^^^^^^\n",
       "          File \"<__array_function__ internals>\", line 200, in allclose\n",
       "          File \"/srv/conda/envs/notebook/lib/python3.11/site-packages/numpy/core/numeric.py\", line 2270, in allclose\n",
       "            res = all(isclose(a, b, rtol=rtol, atol=atol, equal_nan=equal_nan))\n",
       "                      ^^^^^^^^^^^^^^^^^^^^^^^^^^^^^^^^^^^^^^^^^^^^^^^^^^^^^^^^\n",
       "          File \"<__array_function__ internals>\", line 200, in isclose\n",
       "          File \"/srv/conda/envs/notebook/lib/python3.11/site-packages/numpy/core/numeric.py\", line 2377, in isclose\n",
       "            xfin = isfinite(x)\n",
       "                   ^^^^^^^^^^^\n",
       "        TypeError: ufunc 'isfinite' not supported for the input types, and the inputs could not be safely coerced to any supported types according to the casting rule ''safe''\n",
       "</pre>"
      ],
      "text/plain": [
       "q1a results:\n",
       "    q1a - 1 result:\n",
       "        ❌ Test case failed\n",
       "        Trying:\n",
       "            n_test_array = [10, 100, 1000]\n",
       "        Expecting nothing\n",
       "        ok\n",
       "        Trying:\n",
       "            x_test_array = [10, 34, 852]\n",
       "        Expecting nothing\n",
       "        ok\n",
       "        Trying:\n",
       "            res_array = [trivial_theta_estimate(n, x_test_array[i]) for i, n in enumerate(n_test_array)]\n",
       "        Expecting nothing\n",
       "        ok\n",
       "        Trying:\n",
       "            assert np.allclose(res_array, [1.0, 0.34, 0.852])\n",
       "        Expecting nothing\n",
       "        **********************************************************************\n",
       "        Line 4, in q1a 0\n",
       "        Failed example:\n",
       "            assert np.allclose(res_array, [1.0, 0.34, 0.852])\n",
       "        Exception raised:\n",
       "            Traceback (most recent call last):\n",
       "              File \"/srv/conda/envs/notebook/lib/python3.11/doctest.py\", line 1355, in __run\n",
       "                exec(compile(example.source, filename, \"single\",\n",
       "              File \"<doctest q1a 0[3]>\", line 1, in <module>\n",
       "                assert np.allclose(res_array, [1.0, 0.34, 0.852])\n",
       "                       ^^^^^^^^^^^^^^^^^^^^^^^^^^^^^^^^^^^^^^^^^^\n",
       "              File \"<__array_function__ internals>\", line 200, in allclose\n",
       "              File \"/srv/conda/envs/notebook/lib/python3.11/site-packages/numpy/core/numeric.py\", line 2270, in allclose\n",
       "                res = all(isclose(a, b, rtol=rtol, atol=atol, equal_nan=equal_nan))\n",
       "                          ^^^^^^^^^^^^^^^^^^^^^^^^^^^^^^^^^^^^^^^^^^^^^^^^^^^^^^^^\n",
       "              File \"<__array_function__ internals>\", line 200, in isclose\n",
       "              File \"/srv/conda/envs/notebook/lib/python3.11/site-packages/numpy/core/numeric.py\", line 2377, in isclose\n",
       "                xfin = isfinite(x)\n",
       "                       ^^^^^^^^^^^\n",
       "            TypeError: ufunc 'isfinite' not supported for the input types, and the inputs could not be safely coerced to any supported types according to the casting rule ''safe''"
      ]
     },
     "execution_count": 5,
     "metadata": {},
     "output_type": "execute_result"
    }
   ],
   "source": [
    "grader.check(\"q1a\")"
   ]
  },
  {
   "cell_type": "code",
   "execution_count": 6,
   "id": "f9170e43-886a-48d9-8c78-9810adcbb7ab",
   "metadata": {},
   "outputs": [
    {
     "ename": "TypeError",
     "evalue": "'<' not supported between instances of 'ellipsis' and 'ellipsis'",
     "output_type": "error",
     "traceback": [
      "\u001b[0;31m---------------------------------------------------------------------------\u001b[0m",
      "\u001b[0;31mTypeError\u001b[0m                                 Traceback (most recent call last)",
      "Cell \u001b[0;32mIn[6], line 3\u001b[0m\n\u001b[1;32m      1\u001b[0m \u001b[38;5;66;03m# Apply  'trivial_theta_estimate' to each row of the dataframe and add a new column to hold the result\u001b[39;00m\n\u001b[1;32m      2\u001b[0m study_df[\u001b[38;5;124m'\u001b[39m\u001b[38;5;124mTrivial estimate\u001b[39m\u001b[38;5;124m'\u001b[39m] \u001b[38;5;241m=\u001b[39m study_df\u001b[38;5;241m.\u001b[39mapply(\u001b[38;5;28;01mlambda\u001b[39;00m row: trivial_theta_estimate(row[\u001b[38;5;124m'\u001b[39m\u001b[38;5;124mN\u001b[39m\u001b[38;5;124m'\u001b[39m], row[\u001b[38;5;124m'\u001b[39m\u001b[38;5;124mX\u001b[39m\u001b[38;5;124m'\u001b[39m]), axis \u001b[38;5;241m=\u001b[39m\u001b[38;5;241m1\u001b[39m)\n\u001b[0;32m----> 3\u001b[0m \u001b[43mstudy_df\u001b[49m\u001b[38;5;241;43m.\u001b[39;49m\u001b[43msort_values\u001b[49m\u001b[43m(\u001b[49m\u001b[38;5;124;43m'\u001b[39;49m\u001b[38;5;124;43mTrivial estimate\u001b[39;49m\u001b[38;5;124;43m'\u001b[39;49m\u001b[43m)\u001b[49m\n",
      "File \u001b[0;32m/srv/conda/envs/notebook/lib/python3.11/site-packages/pandas/core/frame.py:6769\u001b[0m, in \u001b[0;36mDataFrame.sort_values\u001b[0;34m(self, by, axis, ascending, inplace, kind, na_position, ignore_index, key)\u001b[0m\n\u001b[1;32m   6766\u001b[0m     \u001b[38;5;28;01mif\u001b[39;00m \u001b[38;5;28misinstance\u001b[39m(ascending, (\u001b[38;5;28mtuple\u001b[39m, \u001b[38;5;28mlist\u001b[39m)):\n\u001b[1;32m   6767\u001b[0m         ascending \u001b[38;5;241m=\u001b[39m ascending[\u001b[38;5;241m0\u001b[39m]\n\u001b[0;32m-> 6769\u001b[0m     indexer \u001b[38;5;241m=\u001b[39m \u001b[43mnargsort\u001b[49m\u001b[43m(\u001b[49m\n\u001b[1;32m   6770\u001b[0m \u001b[43m        \u001b[49m\u001b[43mk\u001b[49m\u001b[43m,\u001b[49m\u001b[43m \u001b[49m\u001b[43mkind\u001b[49m\u001b[38;5;241;43m=\u001b[39;49m\u001b[43mkind\u001b[49m\u001b[43m,\u001b[49m\u001b[43m \u001b[49m\u001b[43mascending\u001b[49m\u001b[38;5;241;43m=\u001b[39;49m\u001b[43mascending\u001b[49m\u001b[43m,\u001b[49m\u001b[43m \u001b[49m\u001b[43mna_position\u001b[49m\u001b[38;5;241;43m=\u001b[39;49m\u001b[43mna_position\u001b[49m\u001b[43m,\u001b[49m\u001b[43m \u001b[49m\u001b[43mkey\u001b[49m\u001b[38;5;241;43m=\u001b[39;49m\u001b[43mkey\u001b[49m\n\u001b[1;32m   6771\u001b[0m \u001b[43m    \u001b[49m\u001b[43m)\u001b[49m\n\u001b[1;32m   6772\u001b[0m \u001b[38;5;28;01melse\u001b[39;00m:\n\u001b[1;32m   6773\u001b[0m     \u001b[38;5;28;01mif\u001b[39;00m inplace:\n",
      "File \u001b[0;32m/srv/conda/envs/notebook/lib/python3.11/site-packages/pandas/core/sorting.py:429\u001b[0m, in \u001b[0;36mnargsort\u001b[0;34m(items, kind, ascending, na_position, key, mask)\u001b[0m\n\u001b[1;32m    427\u001b[0m     non_nans \u001b[38;5;241m=\u001b[39m non_nans[::\u001b[38;5;241m-\u001b[39m\u001b[38;5;241m1\u001b[39m]\n\u001b[1;32m    428\u001b[0m     non_nan_idx \u001b[38;5;241m=\u001b[39m non_nan_idx[::\u001b[38;5;241m-\u001b[39m\u001b[38;5;241m1\u001b[39m]\n\u001b[0;32m--> 429\u001b[0m indexer \u001b[38;5;241m=\u001b[39m non_nan_idx[\u001b[43mnon_nans\u001b[49m\u001b[38;5;241;43m.\u001b[39;49m\u001b[43margsort\u001b[49m\u001b[43m(\u001b[49m\u001b[43mkind\u001b[49m\u001b[38;5;241;43m=\u001b[39;49m\u001b[43mkind\u001b[49m\u001b[43m)\u001b[49m]\n\u001b[1;32m    430\u001b[0m \u001b[38;5;28;01mif\u001b[39;00m \u001b[38;5;129;01mnot\u001b[39;00m ascending:\n\u001b[1;32m    431\u001b[0m     indexer \u001b[38;5;241m=\u001b[39m indexer[::\u001b[38;5;241m-\u001b[39m\u001b[38;5;241m1\u001b[39m]\n",
      "\u001b[0;31mTypeError\u001b[0m: '<' not supported between instances of 'ellipsis' and 'ellipsis'"
     ]
    }
   ],
   "source": [
    "# Apply  'trivial_theta_estimate' to each row of the dataframe and add a new column to hold the result\n",
    "study_df['Trivial estimate'] = study_df.apply(lambda row: trivial_theta_estimate(row['N'], row['X']), axis =1)\n",
    "study_df.sort_values('Trivial estimate')"
   ]
  },
  {
   "cell_type": "markdown",
   "id": "31ef73fa-3b0e-460a-8c34-9af8f5e51221",
   "metadata": {},
   "source": [
    "**Trivial estimates suggest that both minimum and maximum probabilities of infection correspond to small studies.**\n",
    "\n",
    "|      | Min     | Max     |\n",
    "|------|---------|---------|\n",
    "| Name | Study 1 | Study 2 |\n",
    "| X    | 2       | 8       | \n",
    "| N    | 11      | 12      |\n",
    "|$\\theta$| 0.18  | 0.50    |\n",
    "\n",
    "\n",
    "Intuitively, we probably shouldn't be making policy decision based on such small studies alone, especially when this dataset has other studies with tens or even hundreds of people. We would like to balance between strong evidence from the small studies and high confidence in estimates from larger studies.\n",
    "\n",
    "Bayesian inference provides a flexible framework to balance our a priori beliefs with new evidence. Consider the following graphical model:\n",
    "\n",
    "\n",
    "![](model.png)\n",
    "\n",
    "\n",
    "The circles represent random variables, and shaded circles represent observed random variables. The diamond at the top represents fixed, unknown parameters . You'll also see people draw dots or squares for these: there isn't really one consistent notation.\n",
    "\n",
    "Here are a few important quantities in Bayesian inference. This lingo will be used at length in this course and in anything you'll learn in the future about Bayesian inference, so make sure you get familiar with it.  "
   ]
  },
  {
   "cell_type": "markdown",
   "id": "27e2c39d-c9a6-415a-8df8-3149a5192de1",
   "metadata": {},
   "source": [
    "### Joint Density / Joint Distribution:\n",
    "The structure of the graphical model specified the full joint density of the parameters and data in the model. For this example the joint density is:\n",
    "$$p(\\theta_1, \\theta_2, \\ldots, \\theta_K, X_1, \\ldots, X_K) = \\prod_{\\text{vertex $V$ in graph}}p(V|\\text{parent of $V$}) = \\prod_{i=1}^K \\underbrace{p(\\theta_i|\\alpha, \\beta)}_{\\text{prior of $\\theta_i$}} \\prod_{i=1}^K \\underbrace{p(X_i|\\theta_i)}_{\\text{likelihood of data $X_i$}}$$\n",
    "\n",
    "The factorization of the joint density into products of priors and likelihoods is the key feature of Hierarchical Models. It allows to take a complex $2K$-dimensional joint probability and factorize it into products of 1-dimensional probabilities. This factorization is useful because it lets us simplify the distribution and control the amount of computation we have to do.\n"
   ]
  },
  {
   "cell_type": "markdown",
   "id": "fa413232-adbf-4413-bb2a-473121f29a5a",
   "metadata": {},
   "source": [
    "### Prior:  $\\theta_i \\sim {\\rm Beta}(\\alpha, \\beta)$\n",
    "\n",
    "We have the prior distribution:\n",
    "\n",
    "\\begin{align}\n",
    "p(\\theta_i) \n",
    "    &= \\theta_i^{\\alpha-1}(1-\\theta_i)^{\\beta-1} \\frac{\\Gamma(\\alpha + \\beta)}{\\Gamma(\\alpha)\\Gamma(\\beta)} \\\\\n",
    "    &\\propto_{\\theta_i}\\theta_i^{\\alpha-1}(1-\\theta_i)^{\\beta-1}\n",
    "\\end{align}\n",
    "\n",
    "where $\\Gamma$ is the [gamma function](https://en.wikipedia.org/wiki/Gamma_function). Since $\\frac{\\Gamma(\\alpha + \\beta)}{\\Gamma(\\alpha)\\Gamma(\\beta)}$ does not depend on the value of $\\theta$. It is a scaling factor that ensures that $p(\\theta_i)$ is a valid probability function. This leads to a common notation in practice: $p(\\theta_i)\\propto_{\\theta_i}\\theta_i^{\\alpha-1}(1-\\theta_i)^{\\beta-1}$. The symbol $\\propto_{\\theta_i}$ means proportional in $\\theta_i$. This is a little more explicit than the $\\propto$ notation that you usually see."
   ]
  },
  {
   "cell_type": "markdown",
   "id": "4c6aa62f-dd4c-4dd1-a8ac-37c97349849b",
   "metadata": {},
   "source": [
    "### Likelihood: $X_i|\\theta \\sim {\\rm Binomial}(N_i, \\theta_i)$\n",
    "\n",
    "We'll use the notation $p(X_i|\\theta)$ for the likelihood function, which represents our belief about the distribution of the data if we know what the parameter $\\theta$ is (in other words, if we condition on $\\theta$).\n",
    "$$p(X_i|\\theta_i) = \\binom{N_i}{X_i} \\theta_i^{X_i}(1-\\theta_i)^{N_i - X_i}$$"
   ]
  },
  {
   "cell_type": "markdown",
   "id": "6dc647dd-5298-48b9-bf41-cb575f5cfdc4",
   "metadata": {},
   "source": [
    "### Marginal: Unconditional distribution of $X_i$:\n",
    "\n",
    "\\begin{align}\n",
    "p(X_i)\n",
    "    &= \\int_{\\theta_i} \\overbrace{p(X_i, \\theta_i)}^{\\text{joint distribution}} \\\\\n",
    "    &= \\int_0^1 \\underbrace{p(X_i|\\theta_i)}_{\\text{likelihood}} \\,\\underbrace{p(\\theta_i)}_{\\text{prior}} \\,d\\theta_i\n",
    "\\end{align}\n",
    "\n",
    "This is the marginal distribution over the data: we can plug in a particular set of $X_i$ values and get out the probability that our model assigns to those values, averaged over all possible values of $\\theta$.\n",
    "\n",
    "When formulating a model, we usually choose the prior and the likelihood based on what we know about the problem. This means that computing this marginal distribution over $X_i$ requires *marginalizing* over the parameter $\\theta$: that involves either a summation or an integral (in this case it's an integral because $\\theta$ is continuous)."
   ]
  },
  {
   "cell_type": "markdown",
   "id": "0b926cba-4fc3-4a13-9366-0afdabd9bea4",
   "metadata": {},
   "source": [
    "### Posterior: $\\theta_i|X_i$\n",
    "The goal of many estimation problems is to obtain the posterior distribution of the parameter of interest $\\theta_i$ conditioned on the data $X_i$.\n",
    "\n",
    "\\begin{align}\n",
    "p(\\theta_i|X_i) &= \\frac{p(X_i|\\theta_i)p(\\theta_i)}{p(X_i)} \\quad \\text{(by Bayes Rule)}\\\\\n",
    "&\\propto_{\\theta} p(X_i|\\theta_i)p(\\theta_i) \\quad \\text{(the data marginal $p(X_i)$ does not depend on $\\theta$)}\\\\\n",
    "&\\propto_{\\theta}  \\underbrace{\\theta_i^{X_i}(1-\\theta_i)^{N_i - X_i}}_{\\text{likelihood}} \\underbrace{\\theta^{\\alpha-1}(1-\\theta)^{\\beta-1}}_{\\text{prior}}\\\\\n",
    "&\\propto_{\\theta}\\theta_i^{\\alpha + X_i - 1}(1-\\theta_i)^{\\beta + N_i - X_i - 1} \\quad \\text{unnormalized Beta density}\\\\\n",
    "\\end{align}"
   ]
  },
  {
   "cell_type": "markdown",
   "id": "e74f2a41-be32-4190-b778-07b0f6336028",
   "metadata": {},
   "source": [
    "### Hence $\\theta_i|X_i \\sim {\\rm Beta}(\\alpha + X_i, \\beta + N_i - X_i)$\n",
    "\n",
    "The fact that the posterior probability comes from the same distribution family as the prior is known as *conjugacy*. It is a very useful property because it allows us to compute the posteriors in closed form."
   ]
  },
  {
   "cell_type": "markdown",
   "id": "2b4737f5-38a7-4ecf-af47-24e293026627",
   "metadata": {
    "deletable": false,
    "editable": false
   },
   "source": [
    "<!-- BEGIN QUESTION -->\n",
    "\n",
    "## 1b) Conceptual\n",
    "When specifying a Bayesian model, we use our domain knowledge to establish certain distributions, and then we use computation to find other ones. Which of the following do we establish using our domain knowledge? Pick all that apply.\n",
    "\n",
    "(a) Prior\n",
    "\n",
    "(b) Likelihood\n",
    "\n",
    "(c) Marginal distribution of the data\n",
    "\n",
    "(d) Posterior "
   ]
  },
  {
   "cell_type": "markdown",
   "id": "5312a208",
   "metadata": {
    "tags": [
     "otter_answer_cell"
    ]
   },
   "source": [
    "_Type your answer here, replacing this text._"
   ]
  },
  {
   "cell_type": "markdown",
   "id": "5cc3f132-b122-4d1d-995b-cf0499c99f3e",
   "metadata": {
    "deletable": false,
    "editable": false
   },
   "source": [
    "<!-- END QUESTION -->\n",
    "\n",
    "## 1c) Examine the prior distribution\n",
    "\n",
    "Before we jump into our COVID meta-analysis, let's start by gaining some intuition about our prior, the Beta distribution."
   ]
  },
  {
   "cell_type": "code",
   "execution_count": null,
   "id": "87553119-8aab-4b0a-b072-b8f8576795fa",
   "metadata": {},
   "outputs": [],
   "source": [
    "def plot_beta(alpha_value, beta_value):\n",
    "    x = np.arange(0, 1.01, 0.01)\n",
    "    y = beta.pdf(x, alpha_value, beta_value)\n",
    "    fig = plt.figure()\n",
    "    plt.plot(x, y)\n",
    "    plt.xlabel(r'$\\theta_i$')\n",
    "    plt.ylabel(r'$p(\\theta_i)$')\n",
    "    plt.title(r'Beta distribution with parameters $\\alpha$ and $\\beta$')\n",
    "    plt.ylim(0, 10)\n",
    "    plt.show() "
   ]
  },
  {
   "cell_type": "code",
   "execution_count": null,
   "id": "1308961c-1a06-45fc-86f6-0bc3953ed1cd",
   "metadata": {},
   "outputs": [],
   "source": [
    "interactive_plot = interactive(plot_beta, alpha_value=(1, 20, 0.5), beta_value=(1,20, 0.5))\n",
    "interactive_plot"
   ]
  },
  {
   "cell_type": "markdown",
   "id": "2b1a9293-e971-457c-b926-203a26c040b5",
   "metadata": {
    "deletable": false,
    "editable": false
   },
   "source": [
    "<!-- BEGIN QUESTION -->\n",
    "\n",
    "### 1c (i)\n",
    "Fix `alpha_value = 5`, and experiment with different values of `beta_value`. As we increase `beta_value`, what happens to the mode of the distribution?"
   ]
  },
  {
   "cell_type": "markdown",
   "id": "4e2a11fd",
   "metadata": {
    "tags": [
     "otter_answer_cell"
    ]
   },
   "source": [
    "_Type your answer here, replacing this text._"
   ]
  },
  {
   "cell_type": "markdown",
   "id": "bb34e243-fab1-435d-aa14-30ffc1ee5469",
   "metadata": {
    "deletable": false,
    "editable": false
   },
   "source": [
    "<!-- END QUESTION -->\n",
    "\n",
    "<!-- BEGIN QUESTION -->\n",
    "\n",
    "### 1c (ii) \n",
    "Fix `beta_value = 5`, and experiment with different values of `alpha_value`. As we increase `alpha_value`, what happens to the mode of the distribution?"
   ]
  },
  {
   "cell_type": "markdown",
   "id": "9f033b5f",
   "metadata": {
    "tags": [
     "otter_answer_cell"
    ]
   },
   "source": [
    "_Type your answer here, replacing this text._"
   ]
  },
  {
   "cell_type": "markdown",
   "id": "7e8a59cf-9a3f-4cee-bf82-2d91b046e558",
   "metadata": {
    "deletable": false,
    "editable": false
   },
   "source": [
    "<!-- END QUESTION -->\n",
    "\n",
    "<!-- BEGIN QUESTION -->\n",
    "\n",
    "### 1c (iii) \n",
    "Set `alpha_value = beta_value = 1`, increase their value such that `alpha_value=beta_value`. What happens to the *variance* of the distribution? "
   ]
  },
  {
   "cell_type": "markdown",
   "id": "8b19580e",
   "metadata": {
    "tags": [
     "otter_answer_cell"
    ]
   },
   "source": [
    "_Type your answer here, replacing this text._"
   ]
  },
  {
   "cell_type": "markdown",
   "id": "b7d097b7-ee85-4c10-8e2b-3fab82aee35e",
   "metadata": {
    "deletable": false,
    "editable": false,
    "tags": []
   },
   "source": [
    "<!-- END QUESTION -->\n",
    "\n",
    "## 1d) Compute Posterior Mean Estimates for SAR\n",
    "As we saw in [Discussion 3 Question 3](https://drive.google.com/file/d/1g0EJRD5a6RlJ2D_qVKcA3BRObzOzvBc6/view), the **posterior mean** minimizes the **Bayesian Posterior Risk** for the **Squared Error Loss**. In light of this fact, we'll use the mean of the posterior distribution to estimate the Secondary Attack Rate (SAR).\n",
    "\n",
    "**In the cell below, write a function that computes the posterior mean corresponding to $\\theta_i|X_i$.**\n",
    "\n",
    "*Hint: If you need to look up facts about certain well-known distributions, you can always (a) go to textbooks from classes you've taken before, (b) look on Wikipedia, or (c) do a simple web search.*"
   ]
  },
  {
   "cell_type": "code",
   "execution_count": null,
   "id": "8380052b-3044-4cf9-863d-7e4713ca7a3c",
   "metadata": {
    "tags": [
     "otter_answer_cell"
    ]
   },
   "outputs": [],
   "source": [
    "# TODO: complete the function\n",
    "def posterior_mean_estimate(N_value, X_value, alpha_value, beta_value):\n",
    "    \"\"\"\n",
    "    Computes the posterior E[theta_i|X_i] when we consider a prior theta_i ~ Beta(alpha, beta)\n",
    "    \n",
    "    Inputs: \n",
    "        N_value : int, total number of susceptible individuals\n",
    "        X_value : int, number of individuals that became infected\n",
    "        alpha_value, beta_value : floats, parameters of the prior Beta Distribution\n",
    "    \"\"\"\n",
    "    posterior_mean = ...\n",
    "    return posterior_mean"
   ]
  },
  {
   "cell_type": "code",
   "execution_count": null,
   "id": "10020a40",
   "metadata": {
    "deletable": false,
    "editable": false
   },
   "outputs": [],
   "source": [
    "grader.check(\"q1d\")"
   ]
  },
  {
   "cell_type": "markdown",
   "id": "911ba590-e24a-4320-adb6-d33d82ba8d22",
   "metadata": {},
   "source": [
    "## 1e) Examine the posterior mean estimate\n",
    "\n",
    "Let's assume that from domain knowledge, we think that the probability of infection (SAR) is close to $\\frac{1}{3}$. We pick a prior distribution for $\\theta_i$ that has mean $\\frac{1}{3}$. Any distribution of the form $\\theta_i \\sim {\\rm Beta}(k, 2k)$ has this property. The value of $k$ determines the 'strength' of the prior. Low values of $k$  correspond to 'flatter' priors, while larger values of $k$ correspond to 'peakier' priors. Play with the sliders in `q1c` to convince yourself.\n",
    "\n",
    "**Examine the plotting function below and answer the qualitative questions in the next cells.**"
   ]
  },
  {
   "cell_type": "code",
   "execution_count": null,
   "id": "96591e86-2844-4daf-95aa-9e4114a8553d",
   "metadata": {},
   "outputs": [],
   "source": [
    "# Do not modify: Examine the code\n",
    "def plot_thetas(k):\n",
    "    \n",
    "    study_df[\"bayesian_theta\"] = study_df.apply(\n",
    "        lambda row: posterior_mean_estimate(row['N'], row['X'], k, 2*k), \n",
    "        axis=1\n",
    "    )\n",
    "    study_df[\"trivial_theta\"] = study_df.apply(\n",
    "        lambda row: trivial_theta_estimate(row['N'], row['X']), \n",
    "        axis=1\n",
    "    )\n",
    "    fig = plt.figure(figsize=(14, 6))\n",
    "    plt.subplot(1, 2, 1)\n",
    "    graph = sns.scatterplot(\n",
    "        x=\"trivial_theta\", y=\"bayesian_theta\", \n",
    "        data=study_df, size=\"N\", sizes=(50, 300), alpha=.8\n",
    "    )\n",
    "    sns.lineplot(\n",
    "        x='trivial_theta', y='trivial_theta', \n",
    "        data= study_df, ls=\"--\", color='black', lw=1\n",
    "    )\n",
    "    plt.ylim(0.16, 0.52)\n",
    "    graph.axhline(\n",
    "        1/3, color='black', \n",
    "        label = \"$\\frac{1}{3}$ Prior Expectation\"\n",
    "    )\n",
    "    plt.xlabel('Trivial Estimate')\n",
    "    plt.ylabel('Posterior Mean Estimate')\n",
    "    \n",
    "    plt.subplot(1, 2, 2)\n",
    "    x = np.arange(0,1.01,0.01)\n",
    "    y = beta.pdf(x, k, 2*k)\n",
    "    plt.plot(x, y)\n",
    "    plt.xlabel(r'$\\theta_i$')\n",
    "    plt.ylabel(r'$p(\\theta_i)$')\n",
    "    plt.title(rf'Prior: $Beta(\\alpha={k}, \\beta={2*k})$')\n",
    "    plt.ylim(0, 10)\n",
    "    plt.show()"
   ]
  },
  {
   "cell_type": "code",
   "execution_count": null,
   "id": "f39c0596-d2a9-418f-9a84-26362221f6bf",
   "metadata": {},
   "outputs": [],
   "source": [
    "interactive_plot = interactive(plot_thetas, k=(0, 50, 2))\n",
    "interactive_plot"
   ]
  },
  {
   "cell_type": "markdown",
   "id": "972f5b53-7725-4890-8252-bb8a3ca206f7",
   "metadata": {},
   "source": [
    "In the plot above the solid horizontal line represents the prior mean estimate $\\mathbb{E}[\\theta_i] = \\frac{k}{k+2k} = 1/3$. The dashed diagonal line marks $x=y$. Each data-point corresponds to a study, the size of the marker denotes the number of susceptible individuals in each study. Such that larger markers correspond to larger studies.\n",
    "\n",
    "**Based on your observations of the interactive plot above, answer the following questions.**"
   ]
  },
  {
   "cell_type": "markdown",
   "id": "67f8cc2a-4d33-4fb8-b4f8-dfd5d90ea191",
   "metadata": {
    "deletable": false,
    "editable": false
   },
   "source": [
    "<!-- BEGIN QUESTION -->\n",
    "\n",
    "### 1e (i) \n",
    "Start by setting $k=0$, and then steadily increase the value of $k$. Record your observations using **2-3 sentences** in the space below. Be sure to address the following questions:\n",
    "1. At $k=0$, where do the data points lie relative to the horizontal and diagonal lines? Why?\n",
    "2. As we increase the value of $k$, do the points move towards or away from the horizontal line? Why?"
   ]
  },
  {
   "cell_type": "markdown",
   "id": "9e0651f4",
   "metadata": {
    "tags": [
     "otter_answer_cell"
    ]
   },
   "source": [
    "_Type your answer here, replacing this text._"
   ]
  },
  {
   "cell_type": "markdown",
   "id": "7345a6dc-cab2-4723-b756-ae621de3e832",
   "metadata": {
    "deletable": false,
    "editable": false
   },
   "source": [
    "<!-- END QUESTION -->\n",
    "\n",
    "<!-- BEGIN QUESTION -->\n",
    "\n",
    "### 1e (ii) \n",
    "\n",
    "As you increase $k$, some points move faster than others. Which points move faster, the larger or smaller data points? Explain why this is the case in **1-2 sentences**."
   ]
  },
  {
   "cell_type": "markdown",
   "id": "4ba26cb1",
   "metadata": {
    "tags": [
     "otter_answer_cell"
    ]
   },
   "source": [
    "_Type your answer here, replacing this text._"
   ]
  },
  {
   "cell_type": "markdown",
   "id": "d56bc88b-f845-4a42-87dc-76500fec9a4f",
   "metadata": {
    "deletable": false,
    "editable": false
   },
   "source": [
    "<!-- END QUESTION -->\n",
    "\n",
    "<!-- BEGIN QUESTION -->\n",
    "\n",
    "### 1e (iii) \n",
    "Imagine that we let $k\\to \\infty$. How do you think the two graphs above will look in the limit $k\\to \\infty$? Limit your response to **1-2 sentences**."
   ]
  },
  {
   "cell_type": "markdown",
   "id": "9bb7308c",
   "metadata": {
    "tags": [
     "otter_answer_cell"
    ]
   },
   "source": [
    "_Type your answer here, replacing this text._"
   ]
  },
  {
   "cell_type": "markdown",
   "id": "50ab1f8a-453e-400d-adf7-858ec9540308",
   "metadata": {
    "deletable": false,
    "editable": false
   },
   "source": [
    "<!-- END QUESTION -->\n",
    "\n",
    "<!-- BEGIN QUESTION -->\n",
    "\n",
    "### 1e (iv) \n",
    "\n",
    "Fill in the blank in this sentence with either \"small\" or \"large\", and explain your answer in **1-2 sentences**: \n",
    "\n",
    "*If we're very sure that the true SAR is close to $\\frac{1}{3}$, we should choose a _______ value of $k$.*"
   ]
  },
  {
   "cell_type": "markdown",
   "id": "a38ceb54",
   "metadata": {
    "tags": [
     "otter_answer_cell"
    ]
   },
   "source": [
    "_Type your answer here, replacing this text._"
   ]
  },
  {
   "cell_type": "markdown",
   "id": "7b5785d9-e5e8-43bb-aaf2-db7363be709a",
   "metadata": {
    "deletable": false,
    "editable": false
   },
   "source": [
    "<!-- END QUESTION -->\n",
    "\n",
    "# Question 2: Computational Approximate Inference\n",
    "\n",
    "In the previous question we looked at a Beta-Binomial Graphical model. We took advantage of the conjugacy properties of the model and were able to compute closed form solutions for the posterior mean estimates.\n",
    "\n",
    "However, as we introduce more complexity to the model, the **conjugacy property quickly breaks and we have to resort to approximate inference**. In this class, we'll focus primarily on *sampling* for approximate inference: this will be the topic of the next few lectures and next week's labs. In sampling-based approaches, **we don't even try to get the exact posterior: instead, we generate a bunch of samples from it, and use those to approximate the distribution.**\n",
    "\n",
    "In this question you will get a taste for probabilistic programming using `PyMC`. Spend some time perusing the [documentation](https://www.pymc.io/projects/docs/en/stable/learn/core_notebooks/pymc_overview.html), but don't worry if there are parts that don't make sense yet. The Quickstart guide is a useful starting point. \n",
    "\n",
    "We'll be using PyMC to run an algorithm called Markov Chain Monte Carlo (MCMC), which you'll learn about this week and next. We'll start by using the same model from `Question 1`, and compare the results from MCMC with the exact solutions we calculated above. Then, we'll add an extra parameter to the model and make things more complex: even though we can no longer compute our posterior in closed form, MCMC will still generate samples that we can use to estimate each $\\theta_i$."
   ]
  },
  {
   "cell_type": "code",
   "execution_count": 7,
   "id": "03a1b058-c8d6-44c5-850d-3a593abf5756",
   "metadata": {},
   "outputs": [
    {
     "name": "stderr",
     "output_type": "stream",
     "text": [
      "Only 1 samples in chain.\n",
      "Auto-assigning NUTS sampler...\n",
      "Initializing NUTS using jitter+adapt_diag...\n",
      "Multiprocess sampling (4 chains in 4 jobs)\n",
      "NUTS: [dummy]\n",
      "Sampling 4 chains for 1_000 tune and 1 draw iterations (4_000 + 4 draws total) took 2 seconds.\n",
      "/srv/conda/envs/notebook/lib/python3.11/site-packages/arviz/data/base.py:272: UserWarning: More chains (4) than draws (1). Passed array should have shape (chains, draws, *shape)\n",
      "  warnings.warn(\n",
      "The number of samples is too small to check convergence reliably.\n"
     ]
    }
   ],
   "source": [
    "# Create a dummy model so that one-time initialization\n",
    "# happens while you're reading over the code in the next cell.\n",
    "\n",
    "# Note: this and the following cells may take a while to run\n",
    "\n",
    "# You can ignore the output of this cell.\n",
    "\n",
    "with pm.Model() as model:\n",
    "    dummy = pm.Beta('dummy', alpha=1, beta=1)\n",
    "    pm.sample(1, return_inferencedata=False, progressbar=False)"
   ]
  },
  {
   "cell_type": "markdown",
   "id": "8d1e5c49-d6ed-41ff-874c-98095f2ed984",
   "metadata": {
    "deletable": false,
    "editable": false
   },
   "source": [
    "## 2a) Building and sampling from a PyMC model\n",
    "\n",
    "First, let's get acquainted with the structure of PyMC, and show that methods of approximate inference are (in many cases) just as good as having access to the exact distribution. Just like in `Question 1`, we're still trying to estimate the SAR using the posterior mean; only this time, we'll be using PyMC to get an approximate answer!\n",
    "\n",
    "#### So, how does PyMC work? What does it even do?\n",
    "\n",
    "In essence, PyMC is just a number generator with extra steps. Given a *likelihood* and a *prior*, it simulates thousands of samples to create an empirical distribution that approximates the true posterior distribution. With those samples, we're able to calculate values of interest (such as the posterior mean, MAP, etc.), and create estimates of $\\theta$.\n",
    "\n",
    "#### How do we tell PyMC what our model looks like?\n",
    "\n",
    "As in any Bayesian parameter estimation problem, in order to find the posterior distribution, we must supply a **likelihood** and **prior**. To do this, we can instantiate [`Distribution`s](https://www.pymc.io/projects/docs/en/v3/Probability_Distributions.html) and their associated parameters to represent the random variables in our problem (you can take a look [here](https://www.pymc.io/projects/docs/en/v3/api/distributions.html) for a list of supported distributions).\n",
    "\n",
    "Once defined, these distribution objects are like any random variable in statistics; you can add, subtract, multiply, divide, and use mathematic operators on them (though sometimes you may need to use PyMC's own math operators). They can also function as either likelihoods or priors, depending on the parameters you feed them:\n",
    "1. If a `Distribution` object's parameters **do not** depend on other `Distribution` objects, these represent **priors**.\n",
    "2. If a `Distribution` object's parameters **do** depend on other `Distribution` objects, these represent **likelihoods**.\n",
    "\n",
    "#### What about our data?\n",
    "\n",
    "Now that we've specified a likelihood and prior, we have to consider our *data*; remember, the posterior describes the distribution of $\\theta$ given the data we observed! To do this, the `Distribution` class has a nifty little argument that we can pass in called `observed`. Using the `observed` argument, we can pass in our observed data to the random variable/`Distribution` object that corresponds to our observations, and let PyMC handle the rest!\n",
    "\n",
    "#### Now, try it out for yourself!\n",
    "\n",
    "Take a look at the cell below, and **define the theta and X nodes to approximate the posterior distribution.** The PyMC website has documentation for defining variables according to the Beta and Binomial distribution. If you have no idea how to proceed, the PyMC Quickstart guide is a great place to start!"
   ]
  },
  {
   "cell_type": "code",
   "execution_count": 8,
   "id": "0c3c8e4c-a45f-4b15-9600-a45dac7d7000",
   "metadata": {
    "tags": [
     "otter_answer_cell"
    ]
   },
   "outputs": [],
   "source": [
    "# TODO: complete the function\n",
    "def approximate_inference_MCMC(\n",
    "    alpha_value, beta_value, study_df = study_df\n",
    "):\n",
    "    \"\"\"\n",
    "    Creates and generates samples from a PyMC model of\n",
    "    the posterior distribution that corresponds to the\n",
    "    graphical model in Q.1, using Markov Chain Monte Carlo (MCMC)\n",
    "    \n",
    "    Inputs:\n",
    "        alpha_value, beta_value : floats, parameters of\n",
    "        the prior Beta Distribution\n",
    "        study_df : DataFrame containing study data\n",
    "    \n",
    "    Outputs: (model, trace)\n",
    "        model is a PyMC model object, which represents the graphical model\n",
    "        trace is a PyMC trace object, which represents 2000 samples\n",
    "            of everything from the posterior\n",
    "    \"\"\"\n",
    "    # Defines the graphical model\n",
    "    with pm.Model() as model:\n",
    "        # The prior for theta is a Beta distribution with parameters\n",
    "        # alpha and beta, and there's one for each study.\n",
    "        # Make sure to name this parameter 'theta' so so this lab can reference it later. \n",
    "        theta = ...\n",
    "        \n",
    "        # The likelihood for X is binomial, with parameter p=theta,\n",
    "        # observed counts in study_df['X'], and observed N similarly\n",
    "        X = ...\n",
    "        \n",
    "        # Generate samples from the posterior distribution using : run 4\n",
    "        # Markov chains of sampling in parallel, generating 500 samples\n",
    "        # each.\n",
    "        trace = pm.sample(500, chains=4, tune=1000, target_accept=0.95, return_inferencedata=False, progressbar=False)\n",
    "    \n",
    "    return (model, trace)"
   ]
  },
  {
   "cell_type": "code",
   "execution_count": 9,
   "id": "d2c09a32",
   "metadata": {
    "deletable": false,
    "editable": false
   },
   "outputs": [
    {
     "data": {
      "text/html": [
       "<p><strong style='color: red;'><pre style='display: inline;'>q2a_i</pre> results:</strong></p><p><strong><pre style='display: inline;'>q2a_i - 1</pre> result:</strong></p><pre>    ❌ Test case failed\n",
       "    Trying:\n",
       "        logger.setLevel(logging.ERROR)\n",
       "    Expecting nothing\n",
       "    ok\n",
       "    Trying:\n",
       "        model, trace = approximate_inference_MCMC(10, 20)\n",
       "    Expecting nothing\n",
       "    **********************************************************************\n",
       "    Line 2, in q2a_i 0\n",
       "    Failed example:\n",
       "        model, trace = approximate_inference_MCMC(10, 20)\n",
       "    Exception raised:\n",
       "        Traceback (most recent call last):\n",
       "          File \"/srv/conda/envs/notebook/lib/python3.11/doctest.py\", line 1355, in __run\n",
       "            exec(compile(example.source, filename, \"single\",\n",
       "          File \"<doctest q2a_i 0[1]>\", line 1, in <module>\n",
       "            model, trace = approximate_inference_MCMC(10, 20)\n",
       "                           ^^^^^^^^^^^^^^^^^^^^^^^^^^^^^^^^^^\n",
       "          File \"/tmp/ipykernel_1440/1444900469.py\", line 34, in approximate_inference_MCMC\n",
       "            trace = pm.sample(500, chains=4, tune=1000, target_accept=0.95, return_inferencedata=False, progressbar=False)\n",
       "                    ^^^^^^^^^^^^^^^^^^^^^^^^^^^^^^^^^^^^^^^^^^^^^^^^^^^^^^^^^^^^^^^^^^^^^^^^^^^^^^^^^^^^^^^^^^^^^^^^^^^^^^\n",
       "          File \"/srv/conda/envs/notebook/lib/python3.11/site-packages/pymc/sampling/mcmc.py\", line 610, in sample\n",
       "            raise SamplingError(\n",
       "        pymc.exceptions.SamplingError: Cannot sample from the model, since the model does not contain any free variables.\n",
       "    Trying:\n",
       "        thetas = trace['theta']\n",
       "    Expecting nothing\n",
       "    **********************************************************************\n",
       "    Line 3, in q2a_i 0\n",
       "    Failed example:\n",
       "        thetas = trace['theta']\n",
       "    Exception raised:\n",
       "        Traceback (most recent call last):\n",
       "          File \"/srv/conda/envs/notebook/lib/python3.11/doctest.py\", line 1355, in __run\n",
       "            exec(compile(example.source, filename, \"single\",\n",
       "          File \"<doctest q2a_i 0[2]>\", line 1, in <module>\n",
       "            thetas = trace['theta']\n",
       "                     ^^^^^\n",
       "        NameError: name 'trace' is not defined\n",
       "    Trying:\n",
       "        logger.setLevel(logging.INFO)\n",
       "    Expecting nothing\n",
       "    ok\n",
       "    Trying:\n",
       "        assert thetas.shape == (2000, 12)\n",
       "    Expecting nothing\n",
       "    **********************************************************************\n",
       "    Line 5, in q2a_i 0\n",
       "    Failed example:\n",
       "        assert thetas.shape == (2000, 12)\n",
       "    Exception raised:\n",
       "        Traceback (most recent call last):\n",
       "          File \"/srv/conda/envs/notebook/lib/python3.11/doctest.py\", line 1355, in __run\n",
       "            exec(compile(example.source, filename, \"single\",\n",
       "          File \"<doctest q2a_i 0[4]>\", line 1, in <module>\n",
       "            assert thetas.shape == (2000, 12)\n",
       "                   ^^^^^^\n",
       "        NameError: name 'thetas' is not defined\n",
       "</pre>"
      ],
      "text/plain": [
       "q2a_i results:\n",
       "    q2a_i - 1 result:\n",
       "        ❌ Test case failed\n",
       "        Trying:\n",
       "            logger.setLevel(logging.ERROR)\n",
       "        Expecting nothing\n",
       "        ok\n",
       "        Trying:\n",
       "            model, trace = approximate_inference_MCMC(10, 20)\n",
       "        Expecting nothing\n",
       "        **********************************************************************\n",
       "        Line 2, in q2a_i 0\n",
       "        Failed example:\n",
       "            model, trace = approximate_inference_MCMC(10, 20)\n",
       "        Exception raised:\n",
       "            Traceback (most recent call last):\n",
       "              File \"/srv/conda/envs/notebook/lib/python3.11/doctest.py\", line 1355, in __run\n",
       "                exec(compile(example.source, filename, \"single\",\n",
       "              File \"<doctest q2a_i 0[1]>\", line 1, in <module>\n",
       "                model, trace = approximate_inference_MCMC(10, 20)\n",
       "                               ^^^^^^^^^^^^^^^^^^^^^^^^^^^^^^^^^^\n",
       "              File \"/tmp/ipykernel_1440/1444900469.py\", line 34, in approximate_inference_MCMC\n",
       "                trace = pm.sample(500, chains=4, tune=1000, target_accept=0.95, return_inferencedata=False, progressbar=False)\n",
       "                        ^^^^^^^^^^^^^^^^^^^^^^^^^^^^^^^^^^^^^^^^^^^^^^^^^^^^^^^^^^^^^^^^^^^^^^^^^^^^^^^^^^^^^^^^^^^^^^^^^^^^^^\n",
       "              File \"/srv/conda/envs/notebook/lib/python3.11/site-packages/pymc/sampling/mcmc.py\", line 610, in sample\n",
       "                raise SamplingError(\n",
       "            pymc.exceptions.SamplingError: Cannot sample from the model, since the model does not contain any free variables.\n",
       "        Trying:\n",
       "            thetas = trace['theta']\n",
       "        Expecting nothing\n",
       "        **********************************************************************\n",
       "        Line 3, in q2a_i 0\n",
       "        Failed example:\n",
       "            thetas = trace['theta']\n",
       "        Exception raised:\n",
       "            Traceback (most recent call last):\n",
       "              File \"/srv/conda/envs/notebook/lib/python3.11/doctest.py\", line 1355, in __run\n",
       "                exec(compile(example.source, filename, \"single\",\n",
       "              File \"<doctest q2a_i 0[2]>\", line 1, in <module>\n",
       "                thetas = trace['theta']\n",
       "                         ^^^^^\n",
       "            NameError: name 'trace' is not defined\n",
       "        Trying:\n",
       "            logger.setLevel(logging.INFO)\n",
       "        Expecting nothing\n",
       "        ok\n",
       "        Trying:\n",
       "            assert thetas.shape == (2000, 12)\n",
       "        Expecting nothing\n",
       "        **********************************************************************\n",
       "        Line 5, in q2a_i 0\n",
       "        Failed example:\n",
       "            assert thetas.shape == (2000, 12)\n",
       "        Exception raised:\n",
       "            Traceback (most recent call last):\n",
       "              File \"/srv/conda/envs/notebook/lib/python3.11/doctest.py\", line 1355, in __run\n",
       "                exec(compile(example.source, filename, \"single\",\n",
       "              File \"<doctest q2a_i 0[4]>\", line 1, in <module>\n",
       "                assert thetas.shape == (2000, 12)\n",
       "                       ^^^^^^\n",
       "            NameError: name 'thetas' is not defined"
      ]
     },
     "execution_count": 9,
     "metadata": {},
     "output_type": "execute_result"
    }
   ],
   "source": [
    "grader.check(\"q2a_i\")"
   ]
  },
  {
   "cell_type": "markdown",
   "id": "3e0c3829-6ed3-4ffc-afe6-b133dc3a8091",
   "metadata": {},
   "source": [
    "Now, when we call the `approximate_inference_MCMC` function, we run the sampler and pass in fixed values of the hyperparameters alpha and beta."
   ]
  },
  {
   "cell_type": "code",
   "execution_count": 10,
   "id": "d4f983e9-6835-41b7-8edb-457312114ca0",
   "metadata": {},
   "outputs": [
    {
     "ename": "SamplingError",
     "evalue": "Cannot sample from the model, since the model does not contain any free variables.",
     "output_type": "error",
     "traceback": [
      "\u001b[0;31m---------------------------------------------------------------------------\u001b[0m",
      "\u001b[0;31mSamplingError\u001b[0m                             Traceback (most recent call last)",
      "Cell \u001b[0;32mIn[10], line 2\u001b[0m\n\u001b[1;32m      1\u001b[0m \u001b[38;5;66;03m# Run approximate inference\u001b[39;00m\n\u001b[0;32m----> 2\u001b[0m model, trace \u001b[38;5;241m=\u001b[39m \u001b[43mapproximate_inference_MCMC\u001b[49m\u001b[43m(\u001b[49m\u001b[38;5;241;43m10\u001b[39;49m\u001b[43m,\u001b[49m\u001b[43m \u001b[49m\u001b[38;5;241;43m20\u001b[39;49m\u001b[43m)\u001b[49m\n\u001b[1;32m      4\u001b[0m \u001b[38;5;66;03m# Get posterior samples of theta\u001b[39;00m\n\u001b[1;32m      5\u001b[0m thetas \u001b[38;5;241m=\u001b[39m trace[\u001b[38;5;124m'\u001b[39m\u001b[38;5;124mtheta\u001b[39m\u001b[38;5;124m'\u001b[39m]\n",
      "Cell \u001b[0;32mIn[8], line 34\u001b[0m, in \u001b[0;36mapproximate_inference_MCMC\u001b[0;34m(alpha_value, beta_value, study_df)\u001b[0m\n\u001b[1;32m     29\u001b[0m     X \u001b[38;5;241m=\u001b[39m \u001b[38;5;241m.\u001b[39m\u001b[38;5;241m.\u001b[39m\u001b[38;5;241m.\u001b[39m\n\u001b[1;32m     31\u001b[0m     \u001b[38;5;66;03m# Generate samples from the posterior distribution using : run 4\u001b[39;00m\n\u001b[1;32m     32\u001b[0m     \u001b[38;5;66;03m# Markov chains of sampling in parallel, generating 500 samples\u001b[39;00m\n\u001b[1;32m     33\u001b[0m     \u001b[38;5;66;03m# each.\u001b[39;00m\n\u001b[0;32m---> 34\u001b[0m     trace \u001b[38;5;241m=\u001b[39m \u001b[43mpm\u001b[49m\u001b[38;5;241;43m.\u001b[39;49m\u001b[43msample\u001b[49m\u001b[43m(\u001b[49m\u001b[38;5;241;43m500\u001b[39;49m\u001b[43m,\u001b[49m\u001b[43m \u001b[49m\u001b[43mchains\u001b[49m\u001b[38;5;241;43m=\u001b[39;49m\u001b[38;5;241;43m4\u001b[39;49m\u001b[43m,\u001b[49m\u001b[43m \u001b[49m\u001b[43mtune\u001b[49m\u001b[38;5;241;43m=\u001b[39;49m\u001b[38;5;241;43m1000\u001b[39;49m\u001b[43m,\u001b[49m\u001b[43m \u001b[49m\u001b[43mtarget_accept\u001b[49m\u001b[38;5;241;43m=\u001b[39;49m\u001b[38;5;241;43m0.95\u001b[39;49m\u001b[43m,\u001b[49m\u001b[43m \u001b[49m\u001b[43mreturn_inferencedata\u001b[49m\u001b[38;5;241;43m=\u001b[39;49m\u001b[38;5;28;43;01mFalse\u001b[39;49;00m\u001b[43m,\u001b[49m\u001b[43m \u001b[49m\u001b[43mprogressbar\u001b[49m\u001b[38;5;241;43m=\u001b[39;49m\u001b[38;5;28;43;01mFalse\u001b[39;49;00m\u001b[43m)\u001b[49m\n\u001b[1;32m     36\u001b[0m \u001b[38;5;28;01mreturn\u001b[39;00m (model, trace)\n",
      "File \u001b[0;32m/srv/conda/envs/notebook/lib/python3.11/site-packages/pymc/sampling/mcmc.py:610\u001b[0m, in \u001b[0;36msample\u001b[0;34m(draws, tune, chains, cores, random_seed, progressbar, step, nuts_sampler, initvals, init, jitter_max_retries, n_init, trace, discard_tuned_samples, compute_convergence_checks, keep_warning_stat, return_inferencedata, idata_kwargs, nuts_sampler_kwargs, callback, mp_ctx, model, **kwargs)\u001b[0m\n\u001b[1;32m    608\u001b[0m model \u001b[38;5;241m=\u001b[39m modelcontext(model)\n\u001b[1;32m    609\u001b[0m \u001b[38;5;28;01mif\u001b[39;00m \u001b[38;5;129;01mnot\u001b[39;00m model\u001b[38;5;241m.\u001b[39mfree_RVs:\n\u001b[0;32m--> 610\u001b[0m     \u001b[38;5;28;01mraise\u001b[39;00m SamplingError(\n\u001b[1;32m    611\u001b[0m         \u001b[38;5;124m\"\u001b[39m\u001b[38;5;124mCannot sample from the model, since the model does not contain any free variables.\u001b[39m\u001b[38;5;124m\"\u001b[39m\n\u001b[1;32m    612\u001b[0m     )\n\u001b[1;32m    614\u001b[0m \u001b[38;5;28;01mif\u001b[39;00m cores \u001b[38;5;129;01mis\u001b[39;00m \u001b[38;5;28;01mNone\u001b[39;00m:\n\u001b[1;32m    615\u001b[0m     cores \u001b[38;5;241m=\u001b[39m \u001b[38;5;28mmin\u001b[39m(\u001b[38;5;241m4\u001b[39m, _cpu_count())\n",
      "\u001b[0;31mSamplingError\u001b[0m: Cannot sample from the model, since the model does not contain any free variables."
     ]
    }
   ],
   "source": [
    "# Run approximate inference\n",
    "model, trace = approximate_inference_MCMC(10, 20)\n",
    "\n",
    "# Get posterior samples of theta\n",
    "thetas = trace['theta']\n",
    "thetas\n",
    "print(thetas.shape)"
   ]
  },
  {
   "cell_type": "markdown",
   "id": "4ddbe0dc-2c84-41bc-8d08-26df3882cd51",
   "metadata": {
    "deletable": false,
    "editable": false
   },
   "source": [
    "<!-- BEGIN QUESTION -->\n",
    "\n",
    "Note that the shape of ``thetas`` is (N x M).  What are N and M, and what does each mean?"
   ]
  },
  {
   "cell_type": "markdown",
   "id": "913de1a5",
   "metadata": {
    "tags": [
     "otter_answer_cell"
    ]
   },
   "source": [
    "_Type your answer here, replacing this text._"
   ]
  },
  {
   "cell_type": "markdown",
   "id": "36ccebaa-1dac-445c-9bdf-d03816832572",
   "metadata": {
    "deletable": false,
    "editable": false
   },
   "source": [
    "<!-- END QUESTION -->\n",
    "\n",
    "<!-- BEGIN QUESTION -->\n",
    "\n",
    "## 2b) Using the output of PyMC\n",
    "\n",
    "Now that we've run our sampler, we now have access to the posterior distributions of *all* the random variables we defined in PyMC. Using these empirical distributions, we can now calculate the posterior means for each $\\theta_i$. But before we do that, let's visualize the samples we got back.\n",
    "\n",
    "Generate a histogram of all 2,000 posterior samples for $\\theta_2$ (the SAR for Study 2). Use the `sns.histplot` function with `stat='density'`."
   ]
  },
  {
   "cell_type": "code",
   "execution_count": null,
   "id": "8f52a995-db0c-4e23-a475-b8af60c509b9",
   "metadata": {
    "tags": [
     "otter_answer_cell"
    ]
   },
   "outputs": [],
   "source": [
    "# TODO: Create histogram of posterior samples\n",
    "..."
   ]
  },
  {
   "cell_type": "markdown",
   "id": "2665278d-fa3d-4679-96f1-77e670be4599",
   "metadata": {
    "deletable": false,
    "editable": false
   },
   "source": [
    "<!-- END QUESTION -->\n",
    "\n",
    "<!-- BEGIN QUESTION -->\n",
    "\n",
    "How do the samples compare to the two different estimates you saw in Question 1?"
   ]
  },
  {
   "cell_type": "markdown",
   "id": "df039ef8",
   "metadata": {
    "tags": [
     "otter_answer_cell"
    ]
   },
   "source": [
    "_Type your answer here, replacing this text._"
   ]
  },
  {
   "cell_type": "markdown",
   "id": "045a8dfb-192e-4bdc-b358-aadda90cf4b8",
   "metadata": {
    "deletable": false,
    "editable": false
   },
   "source": [
    "<!-- END QUESTION -->\n",
    "\n",
    "## 2c) Compute Posterior Mean Estimates from Samples\n",
    "\n",
    "Fill in the function that computes posterior mean estimates for each $\\theta_i$ for different parameters $\\alpha, \\beta$ of the prior distribution."
   ]
  },
  {
   "cell_type": "code",
   "execution_count": null,
   "id": "17e40245-343f-447f-b0d0-c1936f4a9f6b",
   "metadata": {
    "tags": [
     "otter_answer_cell"
    ]
   },
   "outputs": [],
   "source": [
    "def empirical_posterior_mean_estimates(alpha_value, beta_value, study_df = study_df):\n",
    "    \"\"\" \n",
    "    Computes posterior mean estimates of theta_i by performing approximate inference\n",
    "    and then sampling from the posterior distribution:\n",
    "    \n",
    "    Inputs:\n",
    "        alpha_value, beta_value : floats, parameters of the prior Beta Distribution\n",
    "        study_df : DataFrame containing study data\n",
    "        \n",
    "    Output:\n",
    "        posterior_estimates : (num_studies,) 1-D array of the same length as the \n",
    "            number of studies. posterior_estimates[i] contains the \n",
    "            mean estimate for theta_i based on running MCMC\n",
    "    \n",
    "    \"\"\"\n",
    "    ...\n",
    "    posterior_estimates = ...\n",
    "    return posterior_estimates"
   ]
  },
  {
   "cell_type": "code",
   "execution_count": null,
   "id": "e88ff6fc",
   "metadata": {
    "deletable": false,
    "editable": false
   },
   "outputs": [],
   "source": [
    "grader.check(\"q2c\")"
   ]
  },
  {
   "cell_type": "markdown",
   "id": "07f344af-133c-4e60-b17e-733ce17c68e7",
   "metadata": {},
   "source": [
    "## 2d) Comparing Results from Question 1 and Question 2\n",
    "\n",
    "Now that we've utilized conjugacy to get the theoretical distribution of the exact posterior (`Question 1`) and applied Markov Chain Monte Carlo to get an approximate empirical distribution (`Question 2`), let's compare the two to see how good our approximation was!\n",
    "\n",
    "Below, we've provided code to make a 4x3 plot such that each subplot corresponds to a study. \n",
    "\n",
    "Each subplot contains 2 curves and a frequency histogram:\n",
    "- The PDF of the prior distribution of $\\theta_i$\n",
    "- The PDF of the true posterior distribution $\\theta_i|X_i$ computed in closed form, as in Q.1\n",
    "- The histogram of posterior samples of $\\theta_i|X_i$ computed in Q.2\n",
    "\n",
    "Take a look through the subplots, and compare the fit between our empirical and theoretical distributions."
   ]
  },
  {
   "cell_type": "code",
   "execution_count": null,
   "id": "c8fad369-25ae-48d1-a823-cb53afe99362",
   "metadata": {},
   "outputs": [],
   "source": [
    "def plot_densities(alpha_value, beta_value, study_df = study_df): \n",
    "    \"\"\"\n",
    "    Plots for each study the prior distribution, true posterior,\n",
    "    and histogram of posterior samples using MCMC\n",
    "    \n",
    "    Inputs:\n",
    "        alpha_value, beta_value : floats, parameters of the prior Beta Distribution\n",
    "        study_df : DataFrame containing study data\n",
    "        \n",
    "    Outputs:\n",
    "        fig : Figure with 12 subplots\n",
    "    \"\"\"\n",
    "    fig, axs = plt.subplots(4, 3)\n",
    "    fig.set_figheight(15)\n",
    "    fig.set_figwidth(15)\n",
    "\n",
    "    \n",
    "    theta = np.arange(0, 1.01, 0.01)\n",
    "    prior = beta.pdf(theta, alpha_value, beta_value)\n",
    "    \n",
    "    model, trace = approximate_inference_MCMC(alpha_value, beta_value, study_df) \n",
    "    samples = trace['theta'] \n",
    "    \n",
    "    for i in range(4):\n",
    "        for j in range(3):\n",
    "            idx = 3*i+ j\n",
    "            X_i = study_df.loc[idx, 'X']\n",
    "            N_i = study_df.loc[idx, 'N']\n",
    "            study_name = f'Study {idx}'\n",
    "            true_posterior = beta.pdf(theta, alpha_value+X_i, beta_value+N_i-X_i) \n",
    "            \n",
    "            ax = axs[i, j]\n",
    "            ax.plot(theta, prior, label = 'Prior')\n",
    "            ax.plot(theta, true_posterior, label = \"Theoretical Posterior\")\n",
    "            ax.hist(samples[:,idx], label = \"Empirical Posterior\", density=True, alpha = 0.7)\n",
    "            ax.set_title(study_name)\n",
    "            ax.legend()\n",
    "    \n",
    "    plt.tight_layout()        \n",
    "    plt.show()\n",
    "    return fig"
   ]
  },
  {
   "cell_type": "code",
   "execution_count": null,
   "id": "d4f8f653-1b59-4dcc-a783-c08b3cafaa3a",
   "metadata": {},
   "outputs": [],
   "source": [
    "# Plot the resulting densities for a weak prior\n",
    "fig1 = plot_densities(2, 4, study_df = study_df)"
   ]
  },
  {
   "cell_type": "code",
   "execution_count": null,
   "id": "66d80fbf-b410-4190-baf9-df9983fbd9e3",
   "metadata": {},
   "outputs": [],
   "source": [
    "# Plot the resulting densities for a strong prior\n",
    "fig2 = plot_densities(20, 40, study_df = study_df)"
   ]
  },
  {
   "cell_type": "markdown",
   "id": "1caa6c83-f35d-42e8-8037-bb503e6922a4",
   "metadata": {
    "deletable": false,
    "editable": false
   },
   "source": [
    "<!-- BEGIN QUESTION -->\n",
    "\n",
    "### 2d (i) \n",
    "\n",
    "Compare the curve of the theoretical distribution with the histogram of samples from the empirical posterior. Are they similar or different?"
   ]
  },
  {
   "cell_type": "markdown",
   "id": "c76fcfc3",
   "metadata": {
    "tags": [
     "otter_answer_cell"
    ]
   },
   "source": [
    "_Type your answer here, replacing this text._"
   ]
  },
  {
   "cell_type": "markdown",
   "id": "0560e7d4-109d-46ff-88d8-9934e615db09",
   "metadata": {
    "deletable": false,
    "editable": false
   },
   "source": [
    "<!-- END QUESTION -->\n",
    "\n",
    "<!-- BEGIN QUESTION -->\n",
    "\n",
    "### 2d (ii)\n",
    "\n",
    "Compare the two figures corresponding to 'weak' prior $\\theta_i \\sim Beta(2,4)$ and 'strong' prior  $\\theta_i \\sim Beta(20,40)$. How are they different? Explain why."
   ]
  },
  {
   "cell_type": "markdown",
   "id": "918ac224",
   "metadata": {
    "tags": [
     "otter_answer_cell"
    ]
   },
   "source": [
    "_Type your answer here, replacing this text._"
   ]
  },
  {
   "cell_type": "markdown",
   "id": "e3db8102-a475-4668-b29a-520eb1032153",
   "metadata": {
    "deletable": false,
    "editable": false
   },
   "source": [
    "<!-- END QUESTION -->\n",
    "\n",
    "## 2e) Approximate Inference for a More Complex Model\n",
    "\n",
    "The previous 2 parts served as a sanity check that the approximate inference techniques used by PyMC can approximate the theoretical posterior. The usefulness of such packages becomes apparent when we are dealing with more complex models that don't have conjugacy properties.\n",
    "\n",
    "Consider the following graphical model:\n",
    "\n",
    "![](model_asymptomatic.png)\n",
    "\n",
    "Recent studies have shown that a large fraction of COVID cases do not show symptoms, but all of the studies considered here tested only symptomatic cases. This means that the probability of testing positive (which what we observe) isn't the same as the SAR $\\theta_i$! \n",
    "\n",
    "The estimates of the asymptomatic rate fall in the range $[0.18, 0.43]$. We assume a prior $A\\sim Uniform(0.18, 0.43)$. This means that the probability that a person in a study tests positive is really $\\theta_i*(1-A)$. Hence:\n",
    "\n",
    "$$X_i|\\theta_i, A \\sim Binomial(N_i, \\theta_i\\cdot (1 - A))$$"
   ]
  },
  {
   "cell_type": "markdown",
   "id": "1c4ddada-5212-4651-8f9d-aba7b66130c3",
   "metadata": {
    "deletable": false,
    "editable": false
   },
   "source": [
    "#### Complete the `approximate_inference_asympotmatic_MCMC` function to add dependence on the asymptomatic rate:"
   ]
  },
  {
   "cell_type": "code",
   "execution_count": null,
   "id": "c92d6714-d490-4f47-8ad9-be61d9d271eb",
   "metadata": {
    "tags": [
     "otter_answer_cell"
    ]
   },
   "outputs": [],
   "source": [
    "# TODO: complete the function\n",
    "def approximate_inference_asympotmatic_MCMC(alpha_value, beta_value, study_df = study_df):\n",
    "    \"\"\"\n",
    "    Creates and fits a PyMC model corresponding to the graphical model above\n",
    "    \n",
    "    Inputs:\n",
    "        alpha_value, beta_value : floats, parameters of the prior Beta Distribution\n",
    "        study_df : DataFrame containing study data\n",
    "    \n",
    "    Outputs: (model, trace)\n",
    "    \"\"\"\n",
    "    with pm.Model() as model:\n",
    "        theta = ...\n",
    "        A = ...\n",
    "        X = ...\n",
    "        \n",
    "        trace = pm.sample(500, tune=1000, target_accept=0.95, return_inferencedata=False, progressbar=False)\n",
    "    return (model, trace)"
   ]
  },
  {
   "cell_type": "code",
   "execution_count": null,
   "id": "80d6ca86",
   "metadata": {
    "deletable": false,
    "editable": false
   },
   "outputs": [],
   "source": [
    "grader.check(\"q2e_i\")"
   ]
  },
  {
   "cell_type": "markdown",
   "id": "a0d4daa1-7982-4ccf-928d-79e70ea3bf09",
   "metadata": {
    "deletable": false,
    "editable": false
   },
   "source": [
    "<!-- BEGIN QUESTION -->\n",
    "\n",
    "Notice that the `trace` now contains samples for both `theta` and `A`!\n",
    "\n",
    "Plot a histogram of the posterior estimates for $A$ if $\\alpha=5$ and $\\beta=10$."
   ]
  },
  {
   "cell_type": "code",
   "execution_count": null,
   "id": "4060d124-5eec-494c-9447-3904aff82b1a",
   "metadata": {
    "tags": [
     "otter_answer_cell"
    ]
   },
   "outputs": [],
   "source": [
    "model, trace = approximate_inference_asympotmatic_MCMC(5, 10)\n",
    "..."
   ]
  },
  {
   "cell_type": "markdown",
   "id": "c6ae1df5-fe67-4cee-a968-6f255a6bcaf4",
   "metadata": {
    "deletable": false,
    "editable": false
   },
   "source": [
    "<!-- END QUESTION -->\n",
    "\n",
    "<!-- BEGIN QUESTION -->\n",
    "\n",
    "Assuming the model we defined is correct, what can you conclude about the asymptomatic rate $A$ based on the studies and the model?"
   ]
  },
  {
   "cell_type": "markdown",
   "id": "8339857b",
   "metadata": {
    "tags": [
     "otter_answer_cell"
    ]
   },
   "source": [
    "_Type your answer here, replacing this text._"
   ]
  },
  {
   "cell_type": "markdown",
   "id": "7aa7197a-6c19-4921-b0df-13497d82a294",
   "metadata": {
    "deletable": false,
    "editable": false
   },
   "source": [
    "<!-- END QUESTION -->\n",
    "\n",
    "## Well done!\n",
    "You've reached the end of the lab! Make sure you double check your work and make sure that you've answered all the written portions of the lab.\n",
    "\n",
    "Before you submit to Gradescope, make sure you pass all the autograded portions of this lab. **Run the cell below to generate a PDF of your lab submission**, and **run the last cell to generate a zip file of your lab submission.** Do **not** create your lab PDF by exporting your notebook to a PDF.\n",
    "\n",
    "To submit your lab to Gradescope, submit the PDF to Lab 4 Written and the zip file to Lab 4 Code."
   ]
  },
  {
   "cell_type": "code",
   "execution_count": null,
   "id": "488bb513-058a-4623-bc32-d2ae8a8b8473",
   "metadata": {},
   "outputs": [],
   "source": [
    "import matplotlib.image as mpimg\n",
    "from otter.export import export_notebook\n",
    "from os import path\n",
    "from IPython.display import display, HTML\n",
    "export_notebook(\"lab04.ipynb\", filtering=True, pagebreaks=True)\n",
    "if(path.exists('lab04.pdf')):\n",
    "    img = mpimg.imread('baby_rock_hyrax.jpg')\n",
    "    imgplot = plt.imshow(img)\n",
    "    imgplot.axes.get_xaxis().set_visible(False)\n",
    "    imgplot.axes.get_yaxis().set_visible(False)\n",
    "    display(HTML(\"Download your PDF <a href='lab04.pdf' download>here</a>.\"))\n",
    "    plt.show()"
   ]
  },
  {
   "cell_type": "markdown",
   "id": "c65a1468",
   "metadata": {
    "deletable": false,
    "editable": false
   },
   "source": [
    "---\n",
    "\n",
    "To double-check your work, the cell below will rerun all of the autograder tests."
   ]
  },
  {
   "cell_type": "code",
   "execution_count": null,
   "id": "a28cef3d",
   "metadata": {
    "deletable": false,
    "editable": false
   },
   "outputs": [],
   "source": [
    "grader.check_all()"
   ]
  },
  {
   "cell_type": "markdown",
   "id": "01058ef0",
   "metadata": {
    "deletable": false,
    "editable": false
   },
   "source": [
    "## Submission\n",
    "\n",
    "Make sure you have run all cells in your notebook in order before running the cell below, so that all images/graphs appear in the output. The cell below will generate a zip file for you to submit."
   ]
  },
  {
   "cell_type": "code",
   "execution_count": null,
   "id": "3ae04432",
   "metadata": {
    "deletable": false,
    "editable": false
   },
   "outputs": [],
   "source": [
    "grader.export(pdf=False, force_save=True)"
   ]
  },
  {
   "cell_type": "markdown",
   "id": "f011f2f8",
   "metadata": {},
   "source": [
    " "
   ]
  }
 ],
 "metadata": {
  "kernelspec": {
   "display_name": "Python 3 (ipykernel)",
   "language": "python",
   "name": "python3"
  },
  "language_info": {
   "codemirror_mode": {
    "name": "ipython",
    "version": 3
   },
   "file_extension": ".py",
   "mimetype": "text/x-python",
   "name": "python",
   "nbconvert_exporter": "python",
   "pygments_lexer": "ipython3",
   "version": "3.11.11"
  },
  "otter": {
   "OK_FORMAT": true,
   "tests": {
    "q1a": {
     "name": "q1a",
     "points": 1,
     "suites": [
      {
       "cases": [
        {
         "code": ">>> n_test_array = [10, 100, 1000]\n>>> x_test_array = [10, 34, 852]\n>>> res_array = [trivial_theta_estimate(n, x_test_array[i]) for i, n in enumerate(n_test_array)]\n>>> assert np.allclose(res_array, [1.0, 0.34, 0.852])\n",
         "hidden": false,
         "locked": false
        }
       ],
       "scored": true,
       "setup": "",
       "teardown": "",
       "type": "doctest"
      }
     ]
    },
    "q1d": {
     "name": "q1d",
     "points": 1,
     "suites": [
      {
       "cases": [
        {
         "code": ">>> N_test = 100\n>>> X_test = 20\n>>> alpha_test_array = [1, 10, 100]\n>>> beta_test_array = [1, 10, 100]\n>>> inputs = list(itertools.product(alpha_test_array, beta_test_array))\n>>> outputs = [posterior_mean_estimate(N_test, X_test, *inp) for inp in inputs]\n>>> assert np.allclose(outputs, [0.20588235294117646, 0.1891891891891892, 0.1044776119402985, 0.2702702702702703, 0.25, 0.14285714285714285, 0.5970149253731343, 0.5714285714285714, 0.4])\n",
         "hidden": false,
         "locked": false
        }
       ],
       "scored": true,
       "setup": "",
       "teardown": "",
       "type": "doctest"
      }
     ]
    },
    "q2a_i": {
     "name": "q2a_i",
     "points": 1,
     "suites": [
      {
       "cases": [
        {
         "code": ">>> logger.setLevel(logging.ERROR)\n>>> model, trace = approximate_inference_MCMC(10, 20)\n>>> thetas = trace['theta']\n>>> logger.setLevel(logging.INFO)\n>>> assert thetas.shape == (2000, 12)\n",
         "hidden": false,
         "locked": false
        }
       ],
       "scored": true,
       "setup": "",
       "teardown": "",
       "type": "doctest"
      }
     ]
    },
    "q2c": {
     "name": "q2c",
     "points": 1,
     "suites": [
      {
       "cases": [
        {
         "code": ">>> logger.setLevel(logging.ERROR)\n>>> nreps = 2\n>>> answers = [[0.3], [0.26], [0.34], [0.31], [0.29], [0.33], [0.32, 0.33], [0.28], [0.23], [0.37], [0.43], [0.35]]\n>>> checks = []\n>>> for _ in range(nreps):\n...     posterior_estimates_test = empirical_posterior_mean_estimates(10, 25)\n...     checks.append([np.round(posterior_estimates_test[i], 2) in answers[i] for i in range(12)])\n>>> logger.setLevel(logging.INFO)\n>>> assert np.any(checks)\n",
         "hidden": false,
         "locked": false
        }
       ],
       "scored": true,
       "setup": "",
       "teardown": "",
       "type": "doctest"
      }
     ]
    },
    "q2e_i": {
     "name": "q2e_i",
     "points": 1,
     "suites": [
      {
       "cases": [
        {
         "code": ">>> nreps = 2\n>>> logger.setLevel(logging.ERROR)\n>>> answers = [0.38, 0.3, 0.44, 0.38, 0.36, 0.42, 0.42, 0.36, 0.28, 0.48, 0.56, 0.44]\n>>> checks = []\n>>> for _ in range(nreps):\n...     model_test, trace_test = approximate_inference_asympotmatic_MCMC(5, 10)\n...     post_samples_test = trace_test['theta']\n...     estimates = np.mean(post_samples_test, axis=0)\n...     rounded_estimates = np.round(estimates / 2, 2) * 2\n...     checks.append(np.all([rounded_estimates[i] == answers[i] for i in range(len(rounded_estimates))]))\n>>> logger.setLevel(logging.INFO)\n>>> assert np.any(checks)\n",
         "hidden": false,
         "locked": false
        }
       ],
       "scored": true,
       "setup": "",
       "teardown": "",
       "type": "doctest"
      }
     ]
    }
   }
  }
 },
 "nbformat": 4,
 "nbformat_minor": 5
}
