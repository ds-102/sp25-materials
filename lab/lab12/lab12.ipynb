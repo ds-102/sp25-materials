{
 "cells": [
  {
   "cell_type": "code",
   "execution_count": null,
   "metadata": {
    "deletable": false,
    "editable": false
   },
   "outputs": [],
   "source": [
    "# Initialize Otter\n",
    "import otter\n",
    "grader = otter.Notebook(\"lab12.ipynb\")"
   ]
  },
  {
   "cell_type": "markdown",
   "metadata": {},
   "source": [
    "# Lab 12: Differential Privacy\n",
    "Welcome to the 12th (Optional) DS102 lab!!\n",
    "\n",
    "The goal of this lab is to gain a better understanding of differential privacy. We will observe what happens after the Laplace mechanism is applied to an estimator, which was discussed in last Tuesday's lecture. This demonstration is related to an experiment done by [Duchi et al. 2017](https://arxiv.org/abs/1604.02390).\n",
    "\n",
    "The code you need to write is indicated with `...`. There is additional documentation for each part as you go along.\n",
    "\n",
    "## Submission\n",
    "This lab is optional, there's no need to submit to Gradescope."
   ]
  },
  {
   "cell_type": "code",
   "execution_count": null,
   "metadata": {},
   "outputs": [],
   "source": [
    "import numpy as np\n",
    "import pandas as pd\n",
    "import matplotlib.pyplot as plt\n",
    "from scipy.stats import bernoulli\n",
    "%matplotlib inline"
   ]
  },
  {
   "cell_type": "markdown",
   "metadata": {},
   "source": [
    "# National Estimates of Drug-Related Emergency Department Visits (NEDREDV)\n",
    "\n",
    "In this lab, we will analyze drug use data from the [National Estimates\n",
    "of Drug-Related Emergency Department Visits (NEDREDV)](https://www.samhsa.gov/data/report/national-estimates-drug-related-emergency-department-visits-2004-2011-all-visits).\n",
    "\n",
    "The NEDREDV dataset tracks the number of hospital emergency department visits related to drug usage in a given year. We look at data from 2004 and consider the number of hospital admissions for several common drugs:  *Alcohol, Cocaine, Heroin, Marijuana, Stimulants, Amphetamines, Methamphetamine, MDMA, LSD, PCP, Antidepressants, Antipsychotics, Miscellaneous hallucinogens, Inhalants, lithium, Opiates,\n",
    "Opiates unspecified, Narcotic analgesics, Buprenorphine, Codeine, Fentanyl, Hydrocodone, Methadone, Morphine,\n",
    "Oxycodone, Ibuprofen, and Muscle relaxants.*\n",
    "\n",
    "The NEDREDV dataset that we import includes the $d = 27$ drugs, and the observed probability that a person admitted to the hospital for drug abuse in 2004 used drug $j$. **Note that a person admitted to the hospital could have used multiple drugs simultaneously, so the probabilities do not sum to 1**."
   ]
  },
  {
   "cell_type": "code",
   "execution_count": null,
   "metadata": {},
   "outputs": [],
   "source": [
    "nedredv_df = pd.read_csv('nedredv_probs.csv')"
   ]
  },
  {
   "cell_type": "code",
   "execution_count": null,
   "metadata": {
    "scrolled": true
   },
   "outputs": [],
   "source": [
    "nedredv_df"
   ]
  },
  {
   "cell_type": "markdown",
   "metadata": {},
   "source": [
    "## Simulating a privacy-sensitive dataset\n",
    "\n",
    "The NEDREDV dataset itself does not contain the actual drug usage of each individual person admitted to the hospital: it only contains rates of the total number of people admitted to the hospital for using each drug. For the purposes of this lab, we will instead *simulate* a  privacy-sensitive dataset that contains the drug usage of the individuals admitted to the hospital. We will generate a dataset $X = \\{X_1, . . . , X_N \\}$ where each $X_i \\in \\{0, 1\\}^d$ represents an individual admitted to the hospital, and $X_{i,j}$ is 1 if the individual abuses drug $j$ and 0 otherwise. Since drug use is a sensitive topic, it would certainly be a privacy problem if such a dataset $X$ containing the drug usage of individuals admitted to the hospital were made public (and it would likely violate [HIPAA](https://www.hhs.gov/hipaa/index.html)). \n",
    "\n",
    "To generate this privacy-sensitive dataset, let $p_j$ be the observed probability that a person admitted to the hospital used drug $j$ according to the NEDREDV data from 2004. We draw $$X_{i,j} \\sim Bernoulli(p_j)$$ independently for all $i = 1,...,N$ and for all $j = 1,...,d$. This results in a set of hypothetical individuals $X_1,...,X_N$ where the marginal counts $\\frac{1}{N}\\sum_{i=1}^N X_{i,j}$ yield approximately the correct drug use frequencies to match the NEDREDV data. "
   ]
  },
  {
   "cell_type": "code",
   "execution_count": null,
   "metadata": {},
   "outputs": [],
   "source": [
    "def simulate_private_data(nedredv_df, N=30000, random_seed = None):\n",
    "    \"\"\"Simulates the privacy-sensitive dataset with individual drug usage.\n",
    "    \n",
    "    Inputs: \n",
    "        nedredv_df : dataframe containing the drug and the probability that an admittee used the drug.\n",
    "        N : number of individuals to generate.\n",
    "        random_seed : int, random seed for experimental reproducibility\n",
    "      \n",
    "    Returns:\n",
    "        X_df : dataframe containing N rows where each row corresponds to an admitted individual, \n",
    "            and a 1 in a column corresponding to a given drug means that the individual used that drug.\n",
    "    \"\"\"\n",
    "    X = {}\n",
    "    for index, row in nedredv_df.iterrows(): \n",
    "        drug_name = row['Substance']\n",
    "        observed_probability = row['Probability']\n",
    "        X_row = bernoulli.rvs(observed_probability, size=N, random_state = np.random.RandomState(seed=random_seed))\n",
    "        X[drug_name] = X_row\n",
    "        X_df = pd.DataFrame(X)\n",
    "    return X_df"
   ]
  },
  {
   "cell_type": "code",
   "execution_count": null,
   "metadata": {},
   "outputs": [],
   "source": [
    "X_df = simulate_private_data(nedredv_df, random_seed = 22)\n",
    "X_df.head()"
   ]
  },
  {
   "cell_type": "markdown",
   "metadata": {},
   "source": [
    "Notice that each row of the dataframe `X_df` corresponds to an individual, $X_i$, and a $1$ in a column corresponding to a given drug means that the individual used that drug. An individual admitted to the hospital could have used multiple drugs simultaneously."
   ]
  },
  {
   "cell_type": "markdown",
   "metadata": {},
   "source": [
    "# Goal: Mean estimation with differential privacy\n",
    "\n",
    "From now on, we will treat the dataset that we just generated as ground truth. We will seek to analyze statistics about this data without hurting the privacy of the individuals in the dataset that we just generated.\n",
    "\n",
    "Specifically, the statistic we want to estimate is the mean of the population:\n",
    "$\\theta = E[X]$. But, the catch is that we want to estimate this mean in a **differentially private** way. \n",
    "\n",
    "## The true mean\n",
    "Based on the way the data was generated, we know that the true mean of the distribution that the samples were drawn from is the original probabilities from the NEDREDV dataset. Our goal will be to estimate this true mean from the dataset that we generated in a differentially private way."
   ]
  },
  {
   "cell_type": "code",
   "execution_count": null,
   "metadata": {},
   "outputs": [],
   "source": [
    "TRUE_MEAN = nedredv_df['Probability'].to_numpy()\n",
    "print(nedredv_df)"
   ]
  },
  {
   "cell_type": "markdown",
   "metadata": {},
   "source": [
    "## Differential privacy \n",
    "\n",
    "The idea behind differential privacy is that any given individual should be willing to participate in the statistical analysis\n",
    "because their participation in the study does not change the outcome of the study by very much;\n",
    "their personal information cannot be recovered from the results of either removing or adding them to the study. This applies to the individuals in the dataset we generated: removing any individual from the data should not change our mean estimate that much. Otherwise, it may be possible to recover the drug usage of an individual based on a mean estimate that includes the individual and another mean estimate that doesn't include the individual.\n",
    "\n",
    "For two datasets $X$ and $X'$ which differ in only one entry (e.g., differing in one individual), an $\\epsilon$-**differentially private algorithm** $\\mathcal{A}$ satisfies:\n",
    "\n",
    "$$\\mathbb{P}\\{\\mathcal{A}(X) = a\\} \\leq e^{\\epsilon}\\mathbb{P}\\{\\mathcal{A}(X')= a\\},$$\n",
    "\n",
    "for all possible output values $a$ of the algorithm $\\mathcal{A}$. In words, the probability of seeing any given output of a differentially private algorithm doesn't change much by replacing any one entry in the dataset.\n",
    "\n",
    "NOTE: given $\\epsilon$, $e^{\\epsilon}$ is just a constant. So we could write $\\alpha = e^{\\epsilon}$ and just have a constant with no exponent. But the exponent form is convenient if we want to take log of both sides, so the version with the exponent is commonly used. \n",
    "\n",
    "We will explore three algorithms for estimating the mean in this lab:\n",
    "\n",
    "1. **Algorithm 1: Non-private:** we will simply take the sample mean of the given data $X$, $$\\hat{\\theta} = \\mathcal{A}(X) = f(X) = \\frac{1}{N}\\sum_{i=1}^N X_i.$$ This is not differentially private: we can recover the drug usage of an individual if we estimate the mean before and after removing the individual.\n",
    "\n",
    "2. **Algorithm 2: Laplace mechanism:** To introduce differential privacy, we can apply the Laplace mechanism. Given the non-private estimator $f(X)$, we can add noise $\\xi_{\\epsilon}$: $$\\hat{\\theta} = \\mathcal{A}(X) = f(X) + \\xi_{\\epsilon} = \\left(\\frac{1}{N}\\sum_{i=1}^N X_i\\right) + \\xi_{\\epsilon}.$$ We will go over this algorithm in more detail later in the lab.\n",
    "\n",
    "3. **Algorithm 3: Locally differentially private Laplace mechanism:** another way to introduce differential privacy is to make the data locally differentially private. In the above Algorithm 2, we added a single noise parameter $\\xi_{\\epsilon}$ to the non-private estimate $f(X)$. Rather than adding noise to the aggregated $f(X)$, we could also add noise to each sensitive bit, $X_i$, individually. $$\\hat{\\theta} = \\mathcal{A}(X) = f(X + \\xi_{\\epsilon}) = \\frac{1}{N}\\sum_{i=1}^N (X_i + \\xi_{\\epsilon}^i ).$$ We will also go over this algorithm in more detail later in the lab.\n",
    "\n",
    "Both Algorithm 2 and Algorithm 3 result in estimators $\\hat{\\theta}$ that are $\\epsilon$-differentially private. The difference between Algorithm 2 and Algorithm 3 is that Algorithm 3 introduces more noise overall by introducing noise $\\xi_{\\epsilon}^i$ into each row. However, the local approach of Algorithm 3 ensures privacy even if we don't trust the person or program calculating $f(X)$ in Algorithm 2."
   ]
  },
  {
   "cell_type": "markdown",
   "metadata": {},
   "source": [
    "# Question 1.  Algorithm 1: Non-private\n",
    "\n",
    "We will now implement the three algorithms, and compare how well they accomplish the task of mean estimation. We'll start with Algorithm 1.\n",
    "\n",
    "For Algorithm 1, the obvious algorithm for mean estimation is to simply take the mean of the samples, $X_i$: \n",
    "\n",
    "$$\\hat{\\theta} = \\mathcal{A}(X) = f(X) = \\frac{1}{N}\\sum_{i=1}^N X_i$$\n",
    "\n",
    "However, this is clearly not differentially private: we can recover the drug usage of an individual if we estimate the mean before and after removing the individual."
   ]
  },
  {
   "cell_type": "markdown",
   "metadata": {
    "deletable": false,
    "editable": false
   },
   "source": [
    "## 1.a. Implement Algorithm 1\n",
    "First, implement the calculation of $\\hat{\\theta}$ using Algorithm 1 using the cell below."
   ]
  },
  {
   "cell_type": "code",
   "execution_count": null,
   "metadata": {
    "tags": [
     "otter_answer_cell"
    ]
   },
   "outputs": [],
   "source": [
    "# estimate the mean of the data using the non-private Algorithm 1.\n",
    "def alg_1_estimate(input_X_df):\n",
    "    \"\"\"Estimates the mean of the data using the non-private Algorithm 1.\n",
    "    \n",
    "    Inputs: \n",
    "        input_X_df : dataframe where each row corresponds to an individual, \n",
    "            and a 1 in a column corresponding to a given drug means that\n",
    "            the individual used that drug. \n",
    "        \n",
    "    Outputs:\n",
    "        mean_estimate : d-dimensional numpy array containing mean of all of the rows in X_df.\n",
    "    \n",
    "    \"\"\"\n",
    "    mean_estimate = ...\n",
    "    return np.array(mean_estimate)"
   ]
  },
  {
   "cell_type": "code",
   "execution_count": null,
   "metadata": {
    "deletable": false,
    "editable": false
   },
   "outputs": [],
   "source": [
    "grader.check(\"q1a\")"
   ]
  },
  {
   "cell_type": "code",
   "execution_count": null,
   "metadata": {},
   "outputs": [],
   "source": [
    "# Print the estimates according to Algoritm 1\n",
    "nedredv_df['Algo_1_estimates'] = alg_1_estimate(X_df)\n",
    "nedredv_df"
   ]
  },
  {
   "cell_type": "markdown",
   "metadata": {
    "deletable": false,
    "editable": false
   },
   "source": [
    "## 1.b. Compute the max error of the mean estimate\n",
    "To judge how good our mean estimate was, we will use the max error, or the [infinity-norm](https://en.wikipedia.org/wiki/Norm_(mathematics)#Maximum_norm_(special_case_of:_infinity_norm,_uniform_norm,_or_supremum_norm)): \n",
    "$$||\\hat{\\theta} - \\theta||_\\infty = \\max_i{|\\hat{\\theta}_i - \\theta_i}|$$\n",
    "\n",
    "This just finds the max difference between any two coordinates of the true mean $\\theta$ and the estimated mean $\\hat{\\theta}$.\n",
    "\n",
    "Now, we will implement the max error function, and calculate the max error of Algorithm 1."
   ]
  },
  {
   "cell_type": "code",
   "execution_count": null,
   "metadata": {
    "tags": [
     "otter_answer_cell"
    ]
   },
   "outputs": [],
   "source": [
    "# Compute the max error between the estimated mean and the true mean.\n",
    "def max_error(estimated_mean, true_mean):\n",
    "    \"\"\"Computes the maximum error between the estimated mean and the true mean.\n",
    "    \n",
    "    Inputs:\n",
    "        estimated_mean: numpy array of length d containing the estimated mean.\n",
    "        true_mean: numpy array of length d containing the true mean.\n",
    "    \n",
    "    Outpus:\n",
    "        max_error: the/'' max error between the estimated_mean and true_mean. \n",
    "            This should be the max of the absolute value of all of the coordinates\n",
    "            of estimated_mean - true_mean.\n",
    "    \"\"\"\n",
    "    max_err = ...\n",
    "    return max_err"
   ]
  },
  {
   "cell_type": "code",
   "execution_count": null,
   "metadata": {
    "deletable": false,
    "editable": false
   },
   "outputs": [],
   "source": [
    "grader.check(\"q1b\")"
   ]
  },
  {
   "cell_type": "code",
   "execution_count": null,
   "metadata": {},
   "outputs": [],
   "source": [
    "print(\"Max error of Algorithm 1: {:.6f}\".format(max_error(alg_1_estimate(X_df), TRUE_MEAN)))"
   ]
  },
  {
   "cell_type": "markdown",
   "metadata": {},
   "source": [
    "# Question 2. Algorithm 2: Laplace mechanism \n",
    "To introduce differential privacy, we can apply the Laplace mechanism that we will go over in Discussion 13. Given the non-private estimator $f(X)$, we can add noise $\\xi_{\\epsilon}$:\n",
    "$$\\hat{\\theta} = \\mathcal{A}(X) = f(X) + \\xi_{\\epsilon} = \\left(\\frac{1}{N}\\sum_{i=1}^N X_i\\right) + \\xi_{\\epsilon}$$\n",
    "\n",
    "\n",
    "$\\xi_{\\epsilon} \\in \\mathbb{R}^d$ has independent coordinates, each distributed according to the zero-mean Laplace distribution with scale parameter $\\frac{\\Delta_f}{\\epsilon}$, denoted $\\text{Lap}(0,\\frac{\\Delta_f}{\\epsilon})$. \n",
    "\n",
    "$\\Delta_f$ is the sensitivity of the function $f$, defined as \n",
    "$$\\Delta_f = \\max_{\\text{neighboring } X,X'} ||f(X) - f(X')||_1,$$\n",
    "where $||.||_1$ is the [1-norm](https://en.wikipedia.org/wiki/Norm_(mathematics)#Taxicab_norm_or_Manhattan_norm). We need to use the 1-norm here because $f(X) \\in \\mathbb{R}^d$.\n",
    "\n",
    "Solving for this,\n",
    "\n",
    "\\begin{align*}\n",
    "\\Delta_f &= \\max_{\\text{neighboring } X,X'} ||f(X) - f(X')||_1 \\\\\n",
    "&= \\max_{\\text{neighboring } X,X'} \\bigg|\\bigg|\\frac{1}{N}\\sum_{i=1}^N X_i - \\frac{1}{N}\\sum_{i=1}^N X_i'\\bigg|\\bigg|_1 \\\\\n",
    "&= \\frac{d}{N}\n",
    "\\end{align*}\n",
    "\n",
    "In the homework, you will show that the above algorithm $\\mathcal{A}(X)$ is $\\epsilon$-differentially private. "
   ]
  },
  {
   "cell_type": "markdown",
   "metadata": {
    "deletable": false,
    "editable": false
   },
   "source": [
    "## Implement Algorithm 2\n",
    "\n",
    "Calculate $\\hat{\\theta}$ using Algorithm 2 above. \n",
    "\n",
    "Plugging in the calculation for $\\Delta_f$ above, we have $\\xi_{\\epsilon} \\in \\mathbb{R}^d$ has independent coordinates, each distributed according to the zero-mean Laplace distribution with scale parameter $\\frac{d}{N\\epsilon}$, denoted $\\text{Lap}(0,\\frac{d}{N\\epsilon})$."
   ]
  },
  {
   "cell_type": "code",
   "execution_count": null,
   "metadata": {
    "tags": [
     "otter_answer_cell"
    ]
   },
   "outputs": [],
   "source": [
    "# Estimate the mean of the data using Algorithm 2.\n",
    "def alg_2_estimate(input_X_df, epsilon=0.5, random_seed = None):\n",
    "    \"\"\"Estimates the mean of the data using Algorithm 2.\n",
    "    \n",
    "    Inputs: \n",
    "        input_X_df: dataframe where each row corresponds to an individual, \n",
    "            and a 1 in a column corresponding to a given drug means that\n",
    "            the individual used that drug. \n",
    "        epsilon: differential privacy parameter.\n",
    "        random_seed: int, random seed for experimental reproducibility\n",
    "        \n",
    "    Outputs:\n",
    "        mean_estimate: d-dimensional numpy array containing the mean estimate.\n",
    "    \n",
    "    \"\"\"\n",
    "    random_state = np.random.RandomState(seed=random_seed)\n",
    "    d = len(input_X_df.columns)\n",
    "    N = len(input_X_df)\n",
    "    laplace_scale = ...\n",
    "    \n",
    "    xi = random_state.laplace(0, laplace_scale, size=d)\n",
    "    mean_estimate = ...\n",
    "    return mean_estimate"
   ]
  },
  {
   "cell_type": "code",
   "execution_count": null,
   "metadata": {
    "deletable": false,
    "editable": false
   },
   "outputs": [],
   "source": [
    "grader.check(\"q2\")"
   ]
  },
  {
   "cell_type": "code",
   "execution_count": null,
   "metadata": {},
   "outputs": [],
   "source": [
    "# Print the estimates according to Algoritm 2\n",
    "alg_2_estimates = alg_2_estimate(X_df, random_seed = 17)\n",
    "nedredv_df['Algo_2_estimates'] = alg_2_estimates\n",
    "nedredv_df"
   ]
  },
  {
   "cell_type": "code",
   "execution_count": null,
   "metadata": {},
   "outputs": [],
   "source": [
    "# Print the max error of Algorithm 2\n",
    "print(\"Max error of Algorithm 2: {:.6f}\".format(max_error(alg_2_estimates, TRUE_MEAN)))"
   ]
  },
  {
   "cell_type": "markdown",
   "metadata": {},
   "source": [
    "# Question 3. Algorithm 3: Locally differentially private Laplace mechanism\n",
    "Finally, another way to introduce differential privacy is to make the data locally differentially private. In the above Algorithm 2, we added a single noise parameter $\\xi_{\\epsilon}$ to the non-private estimate $f(X)$. Rather\n",
    "than adding noise to the aggregated $f(X)$, we could also add noise to each sensitive bit individually, $X_i$. \n",
    "\n",
    "$$\\hat{\\theta} = \\mathcal{A}(X) = f(X + \\xi_{\\epsilon}) = \\frac{1}{N}\\sum_{i=1}^N (X_i + \\xi_{\\epsilon}^i )$$\n",
    "\n",
    "Here, $\\xi_{\\epsilon} \\in \\mathbb{R}^{N \\times d}$ is making each row in the data differentially private before it even reaches the function $f(X)$. For each individual row $X_i$, $\\xi_{\\epsilon}^i \\in \\mathbb{R}^d$ has independent coordinates, each distributed according to the zero-mean Laplace distribution with parameter $\\frac{\\Delta_{X_i}}{\\epsilon}$, denoted $\\text{Lap}(0,\\frac{\\Delta_{X_i}}{\\epsilon})$. \n",
    "\n",
    "$\\Delta_{X_i}$ is the sensitivity of changing a single row $X_i$:\n",
    "$$\\Delta_{X_i} = \\max_{X_i \\neq X_i'} || X_i - X_i'||_1 = d$$\n",
    "\n",
    "It can be similarly shown that adding noise $\\xi_{\\epsilon}^i$ to each row $X_i$ makes each row itself differentially private, and by the Composition Guarantees for Differential Privacy, this locally differentially private algorithm $\\mathcal{A}(X)$ is also $\\epsilon$-differentially private. \n",
    "\n",
    "The difference between Algorithm 2 and Algorithm 3 is that Algorithm 3 introduces more noise overall by introducing noise $\\xi_{\\epsilon}^i$ into each row. However, the local approach of Algorithm 3 ensures privacy even if we don't trust the person or program calculating $f(X)$ in Algorithm 2.\n"
   ]
  },
  {
   "cell_type": "markdown",
   "metadata": {
    "deletable": false,
    "editable": false
   },
   "source": [
    "## 3.a. Implement Algorithm 3\n",
    "\n",
    "Calculate $\\hat{\\theta}$ using Algorithm 3 above. \n",
    "\n",
    "Plugging in the calculation for $\\Delta_{X_i}$ above, we have $\\xi_{\\epsilon}^i \\in \\mathbb{R}^d$ has independent coordinates, each distributed according to the zero-mean Laplace distribution with parameter $\\frac{d}{\\epsilon}$, denoted $\\text{Lap}(0,\\frac{d}{\\epsilon})$."
   ]
  },
  {
   "cell_type": "code",
   "execution_count": null,
   "metadata": {
    "tags": [
     "otter_answer_cell"
    ]
   },
   "outputs": [],
   "source": [
    "# Estimate the mean of the data using Algorithm 3.\n",
    "def alg_3_estimate(input_X_df, epsilon=0.5, random_seed = None):\n",
    "    \"\"\"Estimates the mean of the data using Algorithm 3.\n",
    "    \n",
    "    Inputs: \n",
    "        input_X_df: dataframe where each row corresponds to an individual, \n",
    "            and a 1 in a column corresponding to a given drug means that\n",
    "            the individual used that drug. \n",
    "        epsilon: differential privacy parameter.\n",
    "        random_seed: int, random seed for experimental reproducibility\n",
    "        \n",
    "    Outputs:\n",
    "        mean_estimate: d-dimensional numpy array containing the mean estimate.   \n",
    "    \"\"\"\n",
    "    random_state = np.random.RandomState(random_seed)\n",
    "    d = len(input_X_df.columns)\n",
    "    N = len(input_X_df)\n",
    "    laplace_scale = ...\n",
    "    \n",
    "    # Adds the xi_i noise to each row X_i. \n",
    "    X = input_X_df.to_numpy(dtype=float)\n",
    "    for i in range(len(X)):\n",
    "        xi_i = random_state.laplace(0, laplace_scale, size=d)\n",
    "        X[i] += xi_i\n",
    "    \n",
    "    mean_estimate = ...\n",
    "    return mean_estimate"
   ]
  },
  {
   "cell_type": "code",
   "execution_count": null,
   "metadata": {
    "deletable": false,
    "editable": false
   },
   "outputs": [],
   "source": [
    "grader.check(\"q3a\")"
   ]
  },
  {
   "cell_type": "code",
   "execution_count": null,
   "metadata": {},
   "outputs": [],
   "source": [
    "# Print the estimates according to Algoritm 3\n",
    "alg_3_estimates = alg_3_estimate(X_df, random_seed = 11)\n",
    "nedredv_df['Algo_3_estimates'] = alg_3_estimates\n",
    "nedredv_df"
   ]
  },
  {
   "cell_type": "code",
   "execution_count": null,
   "metadata": {},
   "outputs": [],
   "source": [
    "# Print the max error of Algorithm 3\n",
    "print(\"Max error of Algorithm 3: {:.6f}\".format(max_error(alg_3_estimates, TRUE_MEAN)))"
   ]
  },
  {
   "cell_type": "markdown",
   "metadata": {
    "deletable": false,
    "editable": false
   },
   "source": [
    "<!-- BEGIN QUESTION -->\n",
    "\n",
    "### 3.b. Comparing the Algorithms\n",
    "\n",
    "Rank all three algorithms in order of how close the mean estimate was to the true mean. For the algorithm that had the worst estimate, why do you think it had the worst estimate? Limit your answer to **1-3 sentences**."
   ]
  },
  {
   "cell_type": "markdown",
   "metadata": {
    "tags": [
     "otter_answer_cell"
    ]
   },
   "source": [
    "_Type your answer here, replacing this text._"
   ]
  },
  {
   "cell_type": "markdown",
   "metadata": {
    "deletable": false,
    "editable": false
   },
   "source": [
    "<!-- END QUESTION -->\n",
    "\n",
    "<!-- BEGIN QUESTION -->\n",
    "\n",
    "### 3.c. Practical Considerations \n",
    "Both Algorithm 2 and Algorithm 3 are $\\epsilon$-differentially private, but have different performances for mean estimation. Can you come up with a hypothetical practical scenario where you might want to use Algorithm 3 instead of Algorithm 2?"
   ]
  },
  {
   "cell_type": "markdown",
   "metadata": {
    "tags": [
     "otter_answer_cell"
    ]
   },
   "source": [
    "_Type your answer here, replacing this text._"
   ]
  },
  {
   "cell_type": "markdown",
   "metadata": {
    "deletable": false,
    "editable": false
   },
   "source": [
    "<!-- END QUESTION -->\n",
    "\n",
    "# Question 4. Break the privacy of Algorithm 1\n",
    "\n",
    "We said that Algorithm 1 is not private. In this question you will try to 'break' it in order to obtain private patient information. Denote by $S$ the original dataset, and by $S'$ a 'neighboring' dataset. The dataset $S$ and $S'$ differ only by one patient, whose data has been modified. Here by modifications we mean flipping some of the respective 0/1 from the row corresponding to that patient.\n",
    "\n",
    "You are given only $N=30000$, $f(S)$ and $f(S')$ (you don't have access to either $S$ or $S$):"
   ]
  },
  {
   "cell_type": "code",
   "execution_count": null,
   "metadata": {},
   "outputs": [],
   "source": [
    "N = 30000\n",
    "\n",
    "f_S = np.array([0.52756667, 0.32886667, 0.10943333, 0.22043333, 0.10026667,\n",
    "                0.02733333, 0.07786667, 0.00756667, 0.0013    , 0.02723333,\n",
    "                0.0933    , 0.05243333, 0.00166667, 0.00933333, 0.0077    ,\n",
    "                0.17586667, 0.03213333, 0.14803333, 0.00066667, 0.00913333,\n",
    "                0.00693333, 0.05323333, 0.0286    , 0.0105    , 0.05163333,\n",
    "                0.02736667, 0.03193333])\n",
    "\n",
    "f_S_prime = np.array([0.52753333, 0.3289    , 0.10943333, 0.22043333, 0.10026667,\n",
    "                      0.02736667, 0.07786667, 0.00756667, 0.0013    , 0.02723333,\n",
    "                      0.0933    , 0.05243333, 0.00166667, 0.00933333, 0.0077    ,\n",
    "                      0.17586667, 0.03213333, 0.14803333, 0.00066667, 0.00913333,\n",
    "                      0.00693333, 0.05323333, 0.0286    , 0.0105    , 0.05163333,\n",
    "                      0.02736667, 0.03193333])"
   ]
  },
  {
   "cell_type": "markdown",
   "metadata": {
    "deletable": false,
    "editable": false
   },
   "source": [
    "### 4.a. Attempt to obtain private information about the patient whose data has been modified.\n",
    "\n",
    "`Hint:` You should be able to infer that this patient used a certain substance and did not use certain other substances."
   ]
  },
  {
   "cell_type": "code",
   "execution_count": null,
   "metadata": {
    "tags": [
     "otter_answer_cell"
    ]
   },
   "outputs": [],
   "source": [
    "..."
   ]
  },
  {
   "cell_type": "markdown",
   "metadata": {
    "deletable": false,
    "editable": false
   },
   "source": [
    "<!-- BEGIN QUESTION -->\n",
    "\n",
    "### 4.b. Interpreting your Results\n",
    "\n",
    "What information have you learned about the patient and the drugs they tested positive/negative for in their visit? What evidence in `q4a` corroborates what you learned? **Limit your response to 1-3 sentences.**"
   ]
  },
  {
   "cell_type": "markdown",
   "metadata": {
    "tags": [
     "otter_answer_cell"
    ]
   },
   "source": [
    "_Type your answer here, replacing this text._"
   ]
  },
  {
   "cell_type": "markdown",
   "metadata": {
    "deletable": false,
    "editable": false
   },
   "source": [
    "<!-- END QUESTION -->\n",
    "\n",
    "## Congratulations! You've finished the last Data 102 Lab!"
   ]
  },
  {
   "cell_type": "markdown",
   "metadata": {},
   "source": [
    "Below, you will see two cells. Running the first cell will automatically generate a PDF of all questions that need to be manually graded, and running the second cell will automatically generate a zip with your autograded answers. **You are responsible for both the coding portion (the zip from Lab 12) and the written portion (the PDF of written responses from Lab 12) to their respective Gradescope portals.** The coding proportion should be submitted to the `Lab 12` assignment as a single zip file, and the written portion should be submitted to `Lab 12 PDF` assignment as a single pdf file. When submitting the written portion, please ensure you select pages appropriately.\n",
    "\n",
    "If there are issues with automatically generating the PDF in the first cell, you can try downloading the notebook as a PDF by clicking on `File -> Save and Export Notebook As... -> PDF`. If that doesn't work either, you can manually take screenshots of your answers to the manually graded questions and submit those. Either way, **you are responsible for ensuring your submission follows our requirements, we will NOT be granting regrade requests for submissions that don't follow instructions.**"
   ]
  },
  {
   "cell_type": "code",
   "execution_count": null,
   "metadata": {},
   "outputs": [],
   "source": [
    "import matplotlib.image as mpimg\n",
    "from otter.export import export_notebook\n",
    "from os import path\n",
    "from IPython.display import display, HTML\n",
    "export_notebook(\"lab12.ipynb\", filtering=True, pagebreaks=True)\n",
    "if(path.exists('lab12.pdf')):\n",
    "    img = mpimg.imread('back_to_school_haircut.jpg')\n",
    "    imgplot = plt.imshow(img)\n",
    "    imgplot.axes.get_xaxis().set_visible(False)\n",
    "    imgplot.axes.get_yaxis().set_visible(False)\n",
    "    plt.show()\n",
    "    display(HTML(\"Download your PDF <a href='lab12.pdf' download>here</a>.\"))\n",
    "else:\n",
    "    print(\"\\n Pdf generation fails, please try the other methods described above\")"
   ]
  },
  {
   "cell_type": "markdown",
   "metadata": {
    "deletable": false,
    "editable": false
   },
   "source": [
    "---\n",
    "\n",
    "To double-check your work, the cell below will rerun all of the autograder tests."
   ]
  },
  {
   "cell_type": "code",
   "execution_count": null,
   "metadata": {
    "deletable": false,
    "editable": false
   },
   "outputs": [],
   "source": [
    "grader.check_all()"
   ]
  },
  {
   "cell_type": "markdown",
   "metadata": {
    "deletable": false,
    "editable": false
   },
   "source": [
    "## Submission\n",
    "\n",
    "Make sure you have run all cells in your notebook in order before running the cell below, so that all images/graphs appear in the output. The cell below will generate a zip file for you to submit."
   ]
  },
  {
   "cell_type": "code",
   "execution_count": null,
   "metadata": {
    "deletable": false,
    "editable": false
   },
   "outputs": [],
   "source": [
    "grader.export(pdf=False, force_save=True)"
   ]
  },
  {
   "cell_type": "markdown",
   "metadata": {},
   "source": [
    " "
   ]
  }
 ],
 "metadata": {
  "kernelspec": {
   "display_name": "Python 3 (ipykernel)",
   "language": "python",
   "name": "python3"
  },
  "language_info": {
   "codemirror_mode": {
    "name": "ipython",
    "version": 3
   },
   "file_extension": ".py",
   "mimetype": "text/x-python",
   "name": "python",
   "nbconvert_exporter": "python",
   "pygments_lexer": "ipython3",
   "version": "3.11.12"
  },
  "otter": {
   "OK_FORMAT": true,
   "tests": {
    "q1a": {
     "name": "q1a",
     "points": 1,
     "suites": [
      {
       "cases": [
        {
         "code": ">>> test_input = simulate_private_data(nedredv_df, N=100, random_seed=0)\n>>> test_output = alg_1_estimate(test_input)\n>>> true_output = np.array([0.54, 0.26, 0.1, 0.17, 0.09, 0.04, 0.09, 0.0, 0.0, 0.04, 0.09, 0.05, 0.0, 0.0, 0.0, 0.14, 0.04, 0.11, 0.0, 0.0, 0.0, 0.05, 0.04, 0.0, 0.05, 0.04, 0.04])\n>>> assert np.max(abs(test_output - true_output)) < 1e-05\n",
         "hidden": false,
         "locked": false
        }
       ],
       "scored": true,
       "setup": "",
       "teardown": "",
       "type": "doctest"
      }
     ]
    },
    "q1b": {
     "name": "q1b",
     "points": 1,
     "suites": [
      {
       "cases": [
        {
         "code": ">>> test_input = [np.array([0.34, 0.66, 0.41]), np.array([0.36, 0.58, 0.45])]\n>>> np.abs(max_error(*test_input) - 0.08) < 1e-05\nTrue",
         "hidden": false,
         "locked": false
        }
       ],
       "scored": true,
       "setup": "",
       "teardown": "",
       "type": "doctest"
      }
     ]
    },
    "q2": {
     "name": "q2",
     "points": 1,
     "suites": [
      {
       "cases": [
        {
         "code": ">>> test_input = simulate_private_data(nedredv_df, N=1000, random_seed=1)\n>>> test_output = alg_2_estimate(test_input, random_seed=6)\n>>> true_output = np.array([0.61118555, 0.30388517, 0.16553917, 0.08185385, 0.01907432, 0.04238588, 0.07632029, -0.00456863, -0.02156009, 0.04617881, 0.08586842, 0.08546348, 0.00198393, 0.01626853, 0.02354852, 0.38347409, 0.08912664, 0.1377036, 0.07541032, 0.06230894, -0.11471126, 0.08304802, 0.08106895, 0.04457083, 0.07825384, 0.0356127, -0.04093591])\n>>> np.max(abs(test_output - true_output)) < 0.0001\nTrue",
         "hidden": false,
         "locked": false
        }
       ],
       "scored": true,
       "setup": "",
       "teardown": "",
       "type": "doctest"
      }
     ]
    },
    "q3a": {
     "name": "q3a",
     "points": 1,
     "suites": [
      {
       "cases": [
        {
         "code": ">>> test_input = simulate_private_data(nedredv_df, N=10000, random_seed=8)\n>>> test_output = alg_3_estimate(test_input, random_seed=2)\n>>> true_output = np.array([-0.40967514, 0.07351822, -0.4317238, 1.00062335, -0.5200155, -0.89679615, -0.65737125, -0.29722826, 0.84077436, 0.40867117, -1.00796038, -0.43696672, 0.01821487, -1.80613563, -0.90836173, -0.17835337, 0.72904829, -0.72107227, 0.15482221, -0.55084658, -0.31396992, -0.3488769, 0.77788347, 0.45583122, 0.05131975, 0.77705583, 0.56286043])\n>>> np.max(abs(test_output - true_output)) < 0.0001\nTrue",
         "hidden": false,
         "locked": false
        }
       ],
       "scored": true,
       "setup": "",
       "teardown": "",
       "type": "doctest"
      }
     ]
    }
   }
  }
 },
 "nbformat": 4,
 "nbformat_minor": 4
}
