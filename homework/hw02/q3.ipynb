{
 "cells": [
  {
   "cell_type": "code",
   "execution_count": null,
   "id": "45d14804-0648-423d-bd2d-a381784488b4",
   "metadata": {},
   "outputs": [],
   "source": [
    "import numpy as np\n",
    "import pandas as pd\n",
    "\n",
    "%matplotlib inline\n",
    "import matplotlib.pyplot as plt\n",
    "import seaborn as sns\n",
    "sns.set()\n",
    "\n",
    "import pymc as pm\n",
    "import arviz as az"
   ]
  },
  {
   "cell_type": "markdown",
   "id": "3254e544-5dc9-4cac-902c-4e072c2ff2cd",
   "metadata": {},
   "source": [
    "# Question 3\n",
    "This notebook contains some starter code for Question 3 of Homework 2. This is not the same as the skeleton code that you see in the lab assignments. You may (and should) add cells of your own code as you work through Question 3."
   ]
  },
  {
   "cell_type": "code",
   "execution_count": null,
   "id": "633fcdc5-22f8-4559-aeec-4f7d0d3082af",
   "metadata": {},
   "outputs": [],
   "source": [
    "# Your code to load the data goes here\n",
    "dcd_full = ...\n",
    "\n",
    "# Do not change this line\n",
    "states_to_use = ('California', 'District of Columbia', 'Nevada', 'Oregon', 'Texas')\n",
    "\n",
    "# Your code to filter down to the states above goes here\n",
    "dcd = ...\n"
   ]
  },
  {
   "cell_type": "code",
   "execution_count": null,
   "id": "4cac259b-885b-4031-a890-1d323a99a22d",
   "metadata": {},
   "outputs": [],
   "source": [
    "# This line gives the state index corresponding to each row\n",
    "state_indices_full = dcd_full['state_name'].astype('category').cat.codes\n",
    "state_indices = dcd['state_name'].astype('category').cat.codes"
   ]
  },
  {
   "cell_type": "code",
   "execution_count": null,
   "id": "4de82c1f-0bc6-48d6-9653-3abf57b823ba",
   "metadata": {},
   "outputs": [],
   "source": [
    "# This cell shows you a very simple example of \"fancy indexing\"\n",
    "array_of_values = np.array([42, 672, 9001])\n",
    "array_of_indices = np.array([1, 1, 0, 2, 0, 0])\n",
    "\n",
    "array_of_values[array_of_indices]"
   ]
  },
  {
   "cell_type": "code",
   "execution_count": null,
   "id": "1674c3bd-44f4-4cc5-b1f9-59d76251d190",
   "metadata": {},
   "outputs": [],
   "source": [
    "# This cell shows you an example of how to use \"fancy indexing\" with the state indices (above)\n",
    "# to take an array with one item per state and get the corresponding item for each district\n",
    "# You don't have to fill anything in here, but understanding it will help you later!\n",
    "\n",
    "# An array with the population of each of our five states of interest (CA, DC, NV, OR, TX)\n",
    "state_population_2020 = np.array([39538223, 689545, 3104614, 4237256, 29145505])\n",
    "state_pop_for_county = state_population_2020[state_indices]\n",
    "dcd.loc[:, 'state_pop'] = state_pop_for_county\n",
    "\n",
    "# The state_pop column now contains the population for each district's state\n",
    "dcd.loc[:, ['state_name', 'district', 'fundinggap', 'state_pop']]"
   ]
  },
  {
   "cell_type": "code",
   "execution_count": null,
   "id": "ea3ff1fd-bcb3-4db7-97c6-dea17f5f777f",
   "metadata": {},
   "outputs": [],
   "source": [
    "..."
   ]
  },
  {
   "cell_type": "code",
   "execution_count": null,
   "id": "9f0c6599-6ae6-497d-b67d-0b407d8f382f",
   "metadata": {},
   "outputs": [],
   "source": [
    "# You don't have to change \n",
    "def plot_state_posterior_means(trace, state_names, **kwargs):\n",
    "    \"\"\"Shows distribution of posterior means from a PyMC trace.\n",
    "\n",
    "    Args:\n",
    "        trace: the result of pm.sample(...).\n",
    "            Assumes the state-level means have been called 'mu'\n",
    "        state_names: a list or array of state names\n",
    "        **kwargs: any extra arguments are passed in to sns.histplot\n",
    "    \"\"\"\n",
    "    num_state = len(state_names)\n",
    "    mu_array = trace.posterior['mu'].values.reshape(-1, num_states)\n",
    "    means_wide = pd.DataFrame(mu_array, columns=state_names)\n",
    "    means_long = pd.melt(means_wide, var_name='State', value_name='Posterior mean')\n",
    "    sns.histplot(means_long, x='Posterior mean', hue='State', bins=np.linspace(-5000, 4000, 500))"
   ]
  },
  {
   "cell_type": "code",
   "execution_count": null,
   "id": "51ccd553-2b3b-42dd-9257-01c57a5d7f96",
   "metadata": {},
   "outputs": [],
   "source": [
    "# If implemented correctly, your solutions to 3(d), 3(e), 3(g), and 3(h) shouldn't take more than one minute to run.\n",
    "# Hint: your solution should use the state_indices array defined earlier!\n",
    "num_states = 5\n",
    "with ...:\n",
    "    # Your code for the random variables goes here\n",
    "    ...\n",
    "    # Don't change this line\n",
    "    trace_d = pm.sample(1000, chains=2, tune=100, return_inferencedata=True)\n"
   ]
  },
  {
   "cell_type": "markdown",
   "id": "fdf86bc2-8970-4080-99df-b8f488f68499",
   "metadata": {},
   "source": [
    "Hint: the rows of the `mu` array in the posterior correspond to the five states in the `states_to_use` array, in the same order."
   ]
  },
  {
   "cell_type": "code",
   "execution_count": null,
   "id": "b3ec0b31-21f9-4b8e-aab2-2275d3470b69",
   "metadata": {},
   "outputs": [],
   "source": [
    "plot_state_posterior_means(trace_d, states_to_use)"
   ]
  },
  {
   "cell_type": "code",
   "execution_count": null,
   "id": "15944d7c-c164-4a15-869f-1ef0098861bd",
   "metadata": {},
   "outputs": [],
   "source": [
    "..."
   ]
  }
 ],
 "metadata": {
  "kernelspec": {
   "display_name": "Python 3 (ipykernel)",
   "language": "python",
   "name": "python3"
  },
  "language_info": {
   "codemirror_mode": {
    "name": "ipython",
    "version": 3
   },
   "file_extension": ".py",
   "mimetype": "text/x-python",
   "name": "python",
   "nbconvert_exporter": "python",
   "pygments_lexer": "ipython3",
   "version": "3.11.10"
  }
 },
 "nbformat": 4,
 "nbformat_minor": 5
}
