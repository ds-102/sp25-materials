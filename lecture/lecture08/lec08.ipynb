{
 "cells": [
  {
   "cell_type": "code",
   "execution_count": null,
   "id": "39a73bc2",
   "metadata": {},
   "outputs": [],
   "source": [
    "import numpy as np\n",
    "import pandas as pd\n",
    "from scipy import stats\n",
    "import matplotlib.pyplot as plt\n",
    "import seaborn as sns\n",
    "sns.set()\n",
    "%matplotlib inline\n",
    "from scipy import stats"
   ]
  },
  {
   "cell_type": "markdown",
   "id": "a7626621",
   "metadata": {},
   "source": [
    "# Data 102 Fall 2024 Lecture 8 Demo"
   ]
  },
  {
   "cell_type": "markdown",
   "id": "da61d6ad",
   "metadata": {},
   "source": [
    "## Bayesian Hierarchical Model for Kidney Cancer"
   ]
  },
  {
   "cell_type": "markdown",
   "id": "ef6d6d18",
   "metadata": {},
   "source": [
    "## Data Exploration\n",
    "\n",
    "We'll focus on the following columns in the kidney cancer dataset:\n",
    "* `state`: the US state\n",
    "* `Location`: the county and state as a string\n",
    "* `fips`, which provides the [FIPS code]() for each county: this is a standard identifier that can often be used to join datasets with county-level information.\n",
    "* `dc` and `dc.2`: the number of kidney cancer deaths between 1980-1984 and 1985-1989, respectively\n",
    "* `pop` and `pop.2`: the population between 1980-1984 and 1985-1989, respectively"
   ]
  },
  {
   "cell_type": "code",
   "execution_count": null,
   "id": "d49d976a",
   "metadata": {},
   "outputs": [],
   "source": [
    "kc_full = pd.read_csv('kidney_cancer_1980.csv', skiprows=4)\n",
    "# There are many other interesting columns, but we'll focus on these:\n",
    "kc = kc_full.loc[:, ['state', 'Location', 'dc', 'dc.2', 'pop', 'pop.2']]\n",
    "kc.head()"
   ]
  },
  {
   "cell_type": "code",
   "execution_count": null,
   "id": "2c242456",
   "metadata": {},
   "outputs": [],
   "source": [
    "kc['rate_nopool'] = kc['dc'] / kc['pop']\n",
    "sns.histplot(kc, x='rate_nopool')"
   ]
  },
  {
   "cell_type": "code",
   "execution_count": null,
   "id": "c6b1e356",
   "metadata": {},
   "outputs": [],
   "source": [
    "sns.scatterplot(kc, x='pop', y='rate_nopool', alpha=0.1);"
   ]
  },
  {
   "cell_type": "code",
   "execution_count": null,
   "id": "43877a7e",
   "metadata": {},
   "outputs": [],
   "source": [
    "# Complete pooling\n",
    "total_pop = kc['pop'].sum()\n",
    "total_dc = kc['dc'].sum()\n",
    "overall_rate = total_dc / total_pop\n",
    "overall_rate"
   ]
  },
  {
   "cell_type": "markdown",
   "id": "02cd03ce",
   "metadata": {},
   "source": [
    "### Hierarchical model\n",
    "\n",
    "Prior and likelihood:\n",
    "$$\n",
    "\\begin{align*}\n",
    "\\theta_i &\\sim \\mathrm{Beta}(a, b), & i \\in \\{1, 2, \\ldots\\} \\\\\n",
    "y_i &\\sim \\mathrm{Binomial}(\\theta_i, n_i), & i \\in \\{1, 2, \\ldots\\}\n",
    "\\end{align*}\n",
    "$$\n",
    "\n",
    "Posterior\n",
    "$$\n",
    "\\theta_i | y_i \\sim \\mathrm{Beta}(a + y_i, b + n_i - y_i)\n",
    "$$\n",
    "\n"
   ]
  },
  {
   "cell_type": "markdown",
   "id": "fc2927dd",
   "metadata": {},
   "source": [
    "#### Empirical Bayes"
   ]
  },
  {
   "cell_type": "code",
   "execution_count": null,
   "id": "808cd9a0",
   "metadata": {},
   "outputs": [],
   "source": [
    "sns.scatterplot(kc, x='pop', y='rate_nopool', alpha=0.6);\n",
    "plt.vlines(3e5, 0, 0.0004, color='black', ls='--')\n",
    "plt.axis([0, 1e6, 0, 0.0004]);"
   ]
  },
  {
   "cell_type": "code",
   "execution_count": null,
   "id": "cb9a2f4b",
   "metadata": {},
   "outputs": [],
   "source": [
    "\n",
    "kc_large_counties = kc[kc['pop'] > 300000]\n",
    "sns.histplot(kc_large_counties, x='rate_nopool')"
   ]
  },
  {
   "cell_type": "code",
   "execution_count": null,
   "id": "1a8d7d20",
   "metadata": {},
   "outputs": [],
   "source": [
    "# Maximum likelihood estimation using scipy: find parameters of a Beta distribution that make the histogram above\n",
    "# as likely as possible\n",
    "\n",
    "# The last two arguments tell scipy that it shouldn't try to shift or scale our Beta distribution\n",
    "a_hat, b_hat, loc_, scale_ = stats.beta.fit(kc_large_counties['rate_nopool'], floc=0, fscale=1)\n",
    "print(a_hat, b_hat)"
   ]
  },
  {
   "cell_type": "code",
   "execution_count": null,
   "id": "c261a07e",
   "metadata": {},
   "outputs": [],
   "source": [
    "a_guess, b_guess = 5, 19995  # educated guess\n",
    "a_eb, b_eb = a_hat, b_hat  # empirical bayes\n",
    "\n",
    "def compute_posterior(kc, prior_a, prior_b):\n",
    "    posterior_a = prior_a + kc['dc']\n",
    "    posterior_b = prior_b + (kc['pop'] - kc['dc'])\n",
    "    return posterior_a, posterior_b\n",
    "kc['posterior_a_edguess'], kc['posterior_b_edguess'] = compute_posterior(kc, a_guess, b_guess)\n",
    "kc['posterior_a_eb'], kc['posterior_b_eb'] = compute_posterior(kc, a_eb, b_eb)\n",
    "kc.sample(n=3)\n"
   ]
  },
  {
   "cell_type": "code",
   "execution_count": null,
   "id": "9909137a",
   "metadata": {},
   "outputs": [],
   "source": [
    "# How do we compute the LMSE?\n",
    "kc['lmse_edguess'] = ...\n",
    "kc['lmse_eb'] = ...\n"
   ]
  },
  {
   "cell_type": "code",
   "execution_count": null,
   "id": "b0cbf656",
   "metadata": {},
   "outputs": [],
   "source": [
    "bins = np.linspace(0, 0.0003, 100)\n",
    "sns.histplot(kc, x='lmse_eb', stat='density', label='Empirical Bayes prior', bins=bins)\n",
    "sns.histplot(kc, x='lmse_edguess',  stat='density', label='Educated guess prior', bins=np.linspace(0, 0.0003, 100))\n",
    "plt.xlabel(\"LMSE estimate for each county's risk\")\n",
    "plt.legend()"
   ]
  }
 ],
 "metadata": {
  "celltoolbar": "Edit Metadata",
  "kernelspec": {
   "display_name": "Python 3 (ipykernel)",
   "language": "python",
   "name": "python3"
  },
  "language_info": {
   "codemirror_mode": {
    "name": "ipython",
    "version": 3
   },
   "file_extension": ".py",
   "mimetype": "text/x-python",
   "name": "python",
   "nbconvert_exporter": "python",
   "pygments_lexer": "ipython3",
   "version": "3.11.5"
  }
 },
 "nbformat": 4,
 "nbformat_minor": 5
}
